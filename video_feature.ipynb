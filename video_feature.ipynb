{
 "cells": [
  {
   "cell_type": "code",
   "execution_count": 1,
   "metadata": {},
   "outputs": [],
   "source": [
    "import os\n",
    "import glob\n",
    "import pandas as pd\n",
    "import matplotlib.pyplot as plt\n",
    "import pickle \n",
    "import cv2\n",
    "import mediapipe as mp\n",
    "import numpy as np\n",
    "from time import time\n",
    "from datetime import datetime, timedelta\n",
    "\n",
    "# Mediapipe configurations\n",
    "mp_face_detection = mp.solutions.face_detection\n",
    "mp_face_mesh = mp.solutions.face_mesh\n",
    "mp_drawing = mp.solutions.drawing_utils"
   ]
  },
  {
   "cell_type": "markdown",
   "metadata": {},
   "source": [
    "# Timestamp 데이터 프레임 정리 "
   ]
  },
  {
   "cell_type": "code",
   "execution_count": 2,
   "metadata": {},
   "outputs": [],
   "source": [
    "Video = '/Users/iduli/Desktop/Ch2_25_Scientific_Data/Final/raw_Dataset/SENSORS/VIDEO'\n",
    "raw_video_dir = os.path.join(Video, \"raw_video\")\n",
    "video_dir = os.path.join(Video)\n",
    "output_dir = os.path.join(Video, \"results\")\n",
    "if not os.path.exists(output_dir):\n",
    "    os.makedirs(output_dir)\n",
    "\n",
    "# 1st 폴더 처리\n",
    "folder_1st = os.path.join(raw_video_dir, \"1st\")\n",
    "time_csv_1st = os.path.join(video_dir, \"1st_time.csv\")\n",
    "\n",
    "# 2nd 폴더 처리\n",
    "folder_2nd = os.path.join(raw_video_dir, \"2nd\")\n",
    "time_csv_2nd = os.path.join(video_dir, \"2nd_time.csv\")"
   ]
  },
  {
   "cell_type": "code",
   "execution_count": 3,
   "metadata": {},
   "outputs": [],
   "source": [
    "def get_baseline_time_for_condition(subject_num, condition, raw_audio_folder):\n",
    "    filename = f\"{subject_num}_1_{condition}_webcam-logger.csv\"\n",
    "    file_path = os.path.join(raw_audio_folder, filename)\n",
    "\n",
    "    if not os.path.exists(file_path):\n",
    "        return None\n",
    "    df = pd.read_csv(file_path)\n",
    "    # 첫 번째 행의 global_time을 baseline으로 사용\n",
    "    baseline_time = df.loc[0, \"global_time\"]\n",
    "    #print(baseline_time)\n",
    "    return baseline_time\n",
    "\n",
    "def parse_mmssms_to_timedelta(time_str):\n",
    "\n",
    "    if pd.isnull(time_str) or time_str.strip() == \"\":\n",
    "        return None\n",
    "    mm, ss, ms_str = time_str.split(\";\")\n",
    "    mm = int(mm)\n",
    "    ss = int(ss)\n",
    "    # '미리초(0~99)' * 10 => 실제 milliseconds\n",
    "    ms = int(ms_str) * 10\n",
    "    total_milliseconds = mm * 60000 + ss * 1000 + ms\n",
    "    #print(total_milliseconds)\n",
    "    return total_milliseconds"
   ]
  },
  {
   "cell_type": "code",
   "execution_count": 4,
   "metadata": {},
   "outputs": [
    {
     "name": "stdout",
     "output_type": "stream",
     "text": [
      "    pnum            c1            c2            c3\n",
      "0      1 1708133874749 1708134415179 1708135064019\n",
      "1      2 1708138921695 1708139374615 1708139837415\n",
      "2      4 1708149174093 1708149673917 1708150138067\n",
      "3      5 1708154998132 1708155464002 1708156023392\n",
      "4      6 1708160855018 1708161215418 1708161682458\n",
      "5      7 1708220866360 1708221284930 1708221830720\n",
      "6      8 1708224638019 1708225072039 1708225517089\n",
      "7     10 1708236380941 1708236820081 1708237334871\n",
      "8     11 1708241795392 1708242291402 1708242944622\n",
      "9     12 1708307665621 1708308079571 1708308581531\n",
      "10    13 1708311237274 1708312013614 1708312435544\n",
      "11    14 1708316103451 1708316560461 1708317021341\n",
      "12    15 1708322961823 1708323444973 1708323913713\n"
     ]
    }
   ],
   "source": [
    "# 2nd \n",
    "time_df = pd.read_csv(time_csv_2nd)\n",
    "results = []\n",
    "for _, row in time_df.iterrows():\n",
    "    pnum = row[\"pnum\"]\n",
    "    condition = str(row[\"condition\"]).strip()\n",
    "    #print(pnum, condition)\n",
    "    c1_str = row[\"c1\"]\n",
    "    c2_str = row[\"c2\"]\n",
    "    c3_str = row[\"c3\"]\n",
    "    baseline = get_baseline_time_for_condition(pnum, condition, folder_2nd)\n",
    "    if baseline is None:\n",
    "        # 해당 파일이 없으면 None으로 두거나, 로그를 남길 수 있음\n",
    "        c1_utc = None\n",
    "        c2_utc = None\n",
    "        c3_utc = None\n",
    "    else:\n",
    "        # 2) c1, c2, c3 각각 파싱\n",
    "        \n",
    "        c1_offset = parse_mmssms_to_timedelta(c1_str)\n",
    "        c2_offset = parse_mmssms_to_timedelta(c2_str)\n",
    "        c3_offset = parse_mmssms_to_timedelta(c3_str)\n",
    "\n",
    "        c1_utc = int(baseline) + int(c1_offset) if c1_offset else None\n",
    "        c2_utc = int(baseline) + int(c2_offset) if c2_offset else None\n",
    "        c3_utc = int(baseline) + int(c3_offset) if c3_offset else None\n",
    "    results.append({\n",
    "        \"pnum\": pnum,\n",
    "        \"c1\": c1_utc,\n",
    "        \"c2\": c2_utc,\n",
    "        \"c3\": c3_utc\n",
    "    })\n",
    "\n",
    "pd.set_option('display.float_format', lambda x: f'{x:.0f}')\n",
    "\n",
    "time_2 = pd.DataFrame(results)\n",
    "# pnum, condition 순으로 정렬\n",
    "time_2.sort_values(by=[\"pnum\"], inplace=True)\n",
    "time_2_grouped = time_2.groupby(\"pnum\", as_index=False).first()\n",
    "print(time_2_grouped)"
   ]
  },
  {
   "cell_type": "code",
   "execution_count": 5,
   "metadata": {},
   "outputs": [
    {
     "name": "stdout",
     "output_type": "stream",
     "text": [
      "    pnum            c1            c2            c3\n",
      "0      1 1671068336785 1671068806645 1671069238335\n",
      "1      2 1671072379186 1671072795326 1671073226566\n",
      "2      3 1671078713202 1671080082890 1671079535240\n",
      "3      4 1671083392936 1671083821136 1671084427321\n",
      "4      8 1671167300402 1671167843772 1671168355472\n",
      "5     10 1671176153254 1671176527614 1671176950044\n",
      "6     12 1671245406272 1671245867362 1671246283292\n",
      "7     13 1671251228083 1671251839213 1671252301653\n",
      "8     14 1671256497984 1671256889694 1671257299414\n",
      "9     16 1671267813860 1671268230560 1671268630930\n",
      "10    18 1671332110114 1671332508724 1671332923974\n",
      "11    19 1671337390010 1671337759720 1671338152320\n",
      "12    20 1671343176119 1671343685068 1671344101538\n",
      "13    21 1671348410357 1671348821827 1671349396847\n",
      "14    22 1671353003060 1671353409090 1671353984170\n",
      "15    23 1671429960227 1671430379247 1671430797957\n",
      "16    25 1671587643730 1671588031700 1671588539130\n",
      "17    26 1671672896380 1671673328260 1671673828350\n",
      "18    27 1671688733167 1671689139997 1671689532707\n"
     ]
    }
   ],
   "source": [
    "# 1st \n",
    "time_df = pd.read_csv(time_csv_1st)\n",
    "results = []\n",
    "for _, row in time_df.iterrows():\n",
    "    pnum = row[\"pnum\"]\n",
    "    condition = str(row[\"condition\"]).strip()\n",
    "    #print(pnum, condition)\n",
    "    c1_str = row[\"c1\"]\n",
    "    c2_str = row[\"c2\"]\n",
    "    c3_str = row[\"c3\"]\n",
    "    baseline = get_baseline_time_for_condition(pnum, condition, folder_1st)\n",
    "    if baseline is None:\n",
    "        # 해당 파일이 없으면 None으로 두거나, 로그를 남길 수 있음\n",
    "        c1_utc = None\n",
    "        c2_utc = None\n",
    "        c3_utc = None\n",
    "    else:\n",
    "        # 2) c1, c2, c3 각각 파싱\n",
    "        \n",
    "        c1_offset = parse_mmssms_to_timedelta(c1_str)\n",
    "        c2_offset = parse_mmssms_to_timedelta(c2_str)\n",
    "        c3_offset = parse_mmssms_to_timedelta(c3_str)\n",
    "\n",
    "        c1_utc = int(baseline) + int(c1_offset) if c1_offset else None\n",
    "        c2_utc = int(baseline) + int(c2_offset) if c2_offset else None\n",
    "        c3_utc = int(baseline) + int(c3_offset) if c3_offset else None\n",
    "    results.append({\n",
    "        \"pnum\": pnum,\n",
    "        \"c1\": c1_utc,\n",
    "        \"c2\": c2_utc,\n",
    "        \"c3\": c3_utc\n",
    "    })\n",
    "\n",
    "pd.set_option('display.float_format', lambda x: f'{x:.0f}')\n",
    "\n",
    "time_1 = pd.DataFrame(results)\n",
    "# pnum, condition 순으로 정렬\n",
    "time_1.sort_values(by=[\"pnum\"], inplace=True)\n",
    "time_1_grouped = time_1.groupby(\"pnum\", as_index=False).first()\n",
    "\n",
    "print(time_1_grouped)"
   ]
  },
  {
   "cell_type": "markdown",
   "metadata": {},
   "source": [
    "# feature extraction"
   ]
  },
  {
   "cell_type": "markdown",
   "metadata": {},
   "source": [
    "* 타임스탬프 값 더해서 추출 하기 !!! "
   ]
  },
  {
   "cell_type": "code",
   "execution_count": 6,
   "metadata": {},
   "outputs": [],
   "source": [
    "# Mediapipe, OpenCV and interval configurations\n",
    "EAR_THRESHOLD = 0.3\n",
    "FOURCC = 'XVID'"
   ]
  },
  {
   "cell_type": "code",
   "execution_count": 7,
   "metadata": {},
   "outputs": [],
   "source": [
    "def save_features_to_csv(df_features, file_path):\n",
    "    df_features.to_csv(file_path, index=False)\n",
    "\n",
    "# Calculate the eye aspect ratio\n",
    "def calculate_eye_aspect_ratio(eye_landmarks):\n",
    "    A = np.linalg.norm(eye_landmarks[1] - eye_landmarks[5])\n",
    "    B = np.linalg.norm(eye_landmarks[2] - eye_landmarks[4])\n",
    "    C = np.linalg.norm(eye_landmarks[0] - eye_landmarks[3])\n",
    "    return (A + B) / (2.0 * C)\n",
    "\n",
    "# Calculate the distance between two points\n",
    "def normalize_vector(v):\n",
    "    norm = np.linalg.norm(v)\n",
    "    if norm == 0:\n",
    "        return v\n",
    "    return v / norm\n"
   ]
  },
  {
   "cell_type": "code",
   "execution_count": 8,
   "metadata": {},
   "outputs": [],
   "source": [
    "def process_video(video_path):\n",
    "    frame_idx = 0\n",
    "    frame_time = 0\n",
    "    # Open video\n",
    "    cap = cv2.VideoCapture(video_path)\n",
    "    if not cap.isOpened():\n",
    "        print(f\"Cannot open video {video_path}\")\n",
    "        return None    \n",
    "    folder_path, video_file = os.path.split(video_path)\n",
    "    print(video_file)\n",
    "    base_name = os.path.splitext(video_file)[0]\n",
    "    fps = int(cap.get(cv2.CAP_PROP_FPS))\n",
    "    width = int(cap.get(cv2.CAP_PROP_FRAME_WIDTH))\n",
    "    height = int(cap.get(cv2.CAP_PROP_FRAME_HEIGHT))\n",
    "    # Initialize variables\n",
    "    feature_list = []\n",
    "    prev_lip_corner_left, prev_lip_corner_right = None, None\n",
    "    prev_left_eye_aspect_ratio, prev_right_eye_aspect_ratio = None, None\n",
    "    blink_count = 0\n",
    "\n",
    "    with mp_face_detection.FaceDetection(model_selection=1, min_detection_confidence=0.7) as face_detection, \\\n",
    "         mp_face_mesh.FaceMesh(min_detection_confidence=0.7, min_tracking_confidence=0.7, refine_landmarks= True) as face_mesh:\n",
    "        #print(frame_idx)\n",
    "        while cap.isOpened():\n",
    "            # Set frame time, will be added after 영상 시작시간  \n",
    "            #current_frame_idx = int(cap.get(cv2.CAP_PROP_POS_FRAMES))\n",
    "            #print(current_frame_idx) frame 0 1 같은시간 읽어짐. \n",
    "            frame_time = cap.get(cv2.CAP_PROP_POS_MSEC)\n",
    "            success, image = cap.read()\n",
    "            error_type = 0\n",
    "            if not success:\n",
    "                # Case 1: 프레임 읽기 실패\n",
    "                error_type = 1\n",
    "                frame_features = [frame_time, np.nan, np.nan, np.nan, np.nan,\n",
    "                                  np.nan, np.nan, np.nan, np.nan, np.nan, error_type]  \n",
    "                break\n",
    "\n",
    "            # Convert BGR to RGB for Mediapipe\n",
    "            image_rgb = cv2.cvtColor(image, cv2.COLOR_BGR2RGB)\n",
    "            image_rgb.flags.writeable = False\n",
    "\n",
    "            # Process face detection and face mesh\n",
    "            results = face_detection.process(image_rgb)\n",
    "            mesh_results = face_mesh.process(image_rgb)\n",
    "\n",
    "            if not results.detections:\n",
    "                # Case 2: 얼굴 탐지 실패\n",
    "                error_type = 2\n",
    "                frame_features = [frame_time, np.nan, np.nan, np.nan, np.nan,\n",
    "                                  np.nan, np.nan, np.nan, np.nan, np.nan, error_type]  \n",
    "                feature_list.append(frame_features)\n",
    "                continue\n",
    "\n",
    "            # Convert RGB back to BGR for OpenCV\n",
    "            image_rgb.flags.writeable = True\n",
    "            image = cv2.cvtColor(image_rgb, cv2.COLOR_RGB2BGR)\n",
    "\n",
    "            # Initialize default values\n",
    "            rotation_x, rotation_y, rotation_z = np.nan, np.nan, np.nan\n",
    "            total_translation = np.nan\n",
    "            gaze_direction = np.array([np.nan, np.nan])\n",
    "            left_lip_movement, right_lip_movement = np.nan, np.nan\n",
    "\n",
    "            # Process face detection\n",
    "            if results.detections:\n",
    "                largest_face = max(results.detections, key=lambda detection: detection.location_data.relative_bounding_box.width * detection.location_data.relative_bounding_box.height)\n",
    "                blink_count = 0  # Reset blink count for each frame\n",
    "\n",
    "            # Process face mesh landmarks\n",
    "            if mesh_results.multi_face_landmarks:\n",
    "                for face_landmarks in mesh_results.multi_face_landmarks:\n",
    "                    landmarks = np.array([(lm.x, lm.y, lm.z) for lm in face_landmarks.landmark])\n",
    "\n",
    "                    # Calculate head movement\n",
    "                    image_points = np.array([\n",
    "                        (landmarks[1][0] * image.shape[1], landmarks[1][1] * image.shape[0]),\n",
    "                        (landmarks[33][0] * image.shape[1], landmarks[33][1] * image.shape[0]),\n",
    "                        (landmarks[263][0] * image.shape[1], landmarks[263][1] * image.shape[0]),\n",
    "                        (landmarks[61][0] * image.shape[1], landmarks[61][1] * image.shape[0]),\n",
    "                        (landmarks[291][0] * image.shape[1], landmarks[291][1] * image.shape[0]),\n",
    "                        (landmarks[199][0] * image.shape[1], landmarks[199][1] * image.shape[0])\n",
    "                    ], dtype=\"double\")\n",
    "\n",
    "                    '''considering changing the points from static value to dynamic value based on landmarks'''\n",
    "                    model_points = np.array([\n",
    "                        (0.0, 0.0, 0.0),\n",
    "                        (-30.0, -125.0, -30.0),\n",
    "                        (30.0, -125.0, -30.0),\n",
    "                        (-60.0, -70.0, -60.0),\n",
    "                        (60.0, -70.0, -60.0),\n",
    "                        (0.0, -150.0, -100.0)\n",
    "                    ]) \n",
    "                    '''model_points = np.array([\n",
    "                                    (landmarks[1][0], landmarks[1][1], landmarks[1][2]),    # 코 끝\n",
    "                                    (landmarks[33][0], landmarks[33][1], landmarks[33][2]), # 왼쪽 눈\n",
    "                                    (landmarks[263][0], landmarks[263][1], landmarks[263][2]), # 오른쪽 눈\n",
    "                                    (landmarks[61][0], landmarks[61][1], landmarks[61][2]), # 왼쪽 입술\n",
    "                                    (landmarks[291][0], landmarks[291][1], landmarks[291][2]), # 오른쪽 입술\n",
    "                                    (landmarks[199][0], landmarks[199][1], landmarks[199][2])  # 턱 끝\n",
    "                                ])'''\n",
    "                    size = image.shape\n",
    "                    focal_length = size[1]\n",
    "                    #print(focal_length)\n",
    "                    center = (size[1] / 2, size[0] / 2)\n",
    "                    camera_matrix = np.array([\n",
    "                        [focal_length, 0, center[0]],\n",
    "                        [0, focal_length, center[1]],\n",
    "                        [0, 0, 1]\n",
    "                    ], dtype=\"double\")\n",
    "                    #print(center[0])\n",
    "\n",
    "                    dist_coeffs = np.zeros((4, 1))\n",
    "                    success, rotation_vector, translation_vector = cv2.solvePnP(model_points, image_points, camera_matrix, dist_coeffs)\n",
    "\n",
    "                    if success:\n",
    "                        rotation_x, rotation_y, rotation_z = rotation_vector.ravel()\n",
    "                        total_translation = np.linalg.norm(translation_vector)\n",
    "                        #print('head')\n",
    "\n",
    "                        # Calculate eye aspect ratio\n",
    "                        left_eye_landmarks = landmarks[[33, 160, 158, 133, 153, 144]]\n",
    "                        right_eye_landmarks = landmarks[[362, 385, 387, 263, 373, 380]]\n",
    "                        left_ear = calculate_eye_aspect_ratio(left_eye_landmarks)\n",
    "                        right_ear = calculate_eye_aspect_ratio(right_eye_landmarks)\n",
    "\n",
    "                        if prev_left_eye_aspect_ratio is not None and prev_right_eye_aspect_ratio is not None:\n",
    "                            if (left_ear < EAR_THRESHOLD and prev_left_eye_aspect_ratio >= EAR_THRESHOLD) or \\\n",
    "                               (right_ear < EAR_THRESHOLD and prev_right_eye_aspect_ratio >= EAR_THRESHOLD):\n",
    "                                blink_count += 1\n",
    "                        #print('eye')\n",
    "\n",
    "                        prev_left_eye_aspect_ratio = left_ear\n",
    "                        prev_right_eye_aspect_ratio = right_ear\n",
    "\n",
    "                        # Calculate gaze direction\n",
    "                        \n",
    "                        left_iris_center = np.mean(landmarks[[474, 475, 476, 477]], axis=0)\n",
    "                        right_iris_center = np.mean(landmarks[[469, 470, 471, 472]], axis=0)\n",
    "                        nose_tip = landmarks[1]\n",
    "                        gaze_direction = normalize_vector((left_iris_center + right_iris_center) / 2.0 - nose_tip)\n",
    "                        #print('gaze')\n",
    "                        # Calculate lip movement\n",
    "                        left_lip_corner = landmarks[61]\n",
    "                        right_lip_corner = landmarks[291]\n",
    "                        if prev_lip_corner_left is not None and prev_lip_corner_right is not None:\n",
    "                            left_lip_movement = np.linalg.norm(left_lip_corner - nose_tip) - np.linalg.norm(prev_lip_corner_left - nose_tip)\n",
    "                            right_lip_movement = np.linalg.norm(right_lip_corner - nose_tip) - np.linalg.norm(prev_lip_corner_right - nose_tip)\n",
    "                        #print('lip')\n",
    "                        prev_lip_corner_left = left_lip_corner\n",
    "                        prev_lip_corner_right = right_lip_corner\n",
    "            # Append features\n",
    "            frame_features = [frame_time, rotation_x, rotation_y, rotation_z, total_translation,\n",
    "                              gaze_direction[0], gaze_direction[1], left_lip_movement, right_lip_movement, blink_count, error_type]\n",
    "\n",
    "            feature_list.append(frame_features)\n",
    "            frame_idx += 1\n",
    "\n",
    "    cap.release()\n",
    "    csv_file_path = os.path.join(result_folder, f'{base_name}.csv')\n",
    "    save_features_to_csv(pd.DataFrame(feature_list, columns=[\n",
    "        \"Timestamp\", \"rotation_x\", \"rotation_y\", \"rotation_z\",\n",
    "        \"Total Movement\", \"Gaze X\", \"Gaze Y\",\n",
    "        \"Left Lip Movement\", \"Right Lip Movement\",\n",
    "        \"Blink Count\",'error_type']), csv_file_path)"
   ]
  },
  {
   "cell_type": "code",
   "execution_count": 9,
   "metadata": {},
   "outputs": [
    {
     "name": "stdout",
     "output_type": "stream",
     "text": [
      "20_c3.mp4\n"
     ]
    },
    {
     "name": "stderr",
     "output_type": "stream",
     "text": [
      "WARNING: All log messages before absl::InitializeLog() is called are written to STDERR\n",
      "I0000 00:00:1744334962.228320 7797518 gl_context.cc:369] GL version: 2.1 (2.1 Metal - 88.1), renderer: Apple M1\n",
      "INFO: Created TensorFlow Lite XNNPACK delegate for CPU.\n",
      "I0000 00:00:1744334962.234631 7797518 gl_context.cc:369] GL version: 2.1 (2.1 Metal - 88.1), renderer: Apple M1\n",
      "W0000 00:00:1744334962.236934 7798146 inference_feedback_manager.cc:114] Feedback manager requires a model with a single signature inference. Disabling support for feedback tensors.\n",
      "W0000 00:00:1744334962.245063 7798150 inference_feedback_manager.cc:114] Feedback manager requires a model with a single signature inference. Disabling support for feedback tensors.\n",
      "W0000 00:00:1744334962.247275 7798128 inference_feedback_manager.cc:114] Feedback manager requires a model with a single signature inference. Disabling support for feedback tensors.\n",
      "W0000 00:00:1744334962.255714 7798148 landmark_projection_calculator.cc:186] Using NORM_RECT without IMAGE_DIMENSIONS is only supported for the square ROI. Provide IMAGE_DIMENSIONS or use PROJECTION_MATRIX.\n"
     ]
    },
    {
     "name": "stdout",
     "output_type": "stream",
     "text": [
      "16_c2.mp4\n"
     ]
    },
    {
     "name": "stderr",
     "output_type": "stream",
     "text": [
      "I0000 00:00:1744335023.308208 7797518 gl_context.cc:369] GL version: 2.1 (2.1 Metal - 88.1), renderer: Apple M1\n",
      "I0000 00:00:1744335023.314518 7797518 gl_context.cc:369] GL version: 2.1 (2.1 Metal - 88.1), renderer: Apple M1\n",
      "W0000 00:00:1744335023.317500 7798859 inference_feedback_manager.cc:114] Feedback manager requires a model with a single signature inference. Disabling support for feedback tensors.\n",
      "W0000 00:00:1744335023.325870 7798861 inference_feedback_manager.cc:114] Feedback manager requires a model with a single signature inference. Disabling support for feedback tensors.\n",
      "W0000 00:00:1744335023.327823 7798855 inference_feedback_manager.cc:114] Feedback manager requires a model with a single signature inference. Disabling support for feedback tensors.\n"
     ]
    },
    {
     "name": "stdout",
     "output_type": "stream",
     "text": [
      "16_c3.mp4\n"
     ]
    },
    {
     "name": "stderr",
     "output_type": "stream",
     "text": [
      "I0000 00:00:1744335081.890842 7797518 gl_context.cc:369] GL version: 2.1 (2.1 Metal - 88.1), renderer: Apple M1\n",
      "I0000 00:00:1744335081.896817 7797518 gl_context.cc:369] GL version: 2.1 (2.1 Metal - 88.1), renderer: Apple M1\n",
      "W0000 00:00:1744335081.898848 7799578 inference_feedback_manager.cc:114] Feedback manager requires a model with a single signature inference. Disabling support for feedback tensors.\n",
      "W0000 00:00:1744335081.906426 7799579 inference_feedback_manager.cc:114] Feedback manager requires a model with a single signature inference. Disabling support for feedback tensors.\n",
      "W0000 00:00:1744335081.908197 7799571 inference_feedback_manager.cc:114] Feedback manager requires a model with a single signature inference. Disabling support for feedback tensors.\n"
     ]
    },
    {
     "name": "stdout",
     "output_type": "stream",
     "text": [
      "3_c1.mp4\n"
     ]
    },
    {
     "name": "stderr",
     "output_type": "stream",
     "text": [
      "I0000 00:00:1744335142.524594 7797518 gl_context.cc:369] GL version: 2.1 (2.1 Metal - 88.1), renderer: Apple M1\n",
      "I0000 00:00:1744335142.530894 7797518 gl_context.cc:369] GL version: 2.1 (2.1 Metal - 88.1), renderer: Apple M1\n",
      "W0000 00:00:1744335142.533136 7800629 inference_feedback_manager.cc:114] Feedback manager requires a model with a single signature inference. Disabling support for feedback tensors.\n",
      "W0000 00:00:1744335142.540847 7800635 inference_feedback_manager.cc:114] Feedback manager requires a model with a single signature inference. Disabling support for feedback tensors.\n",
      "W0000 00:00:1744335142.543048 7800621 inference_feedback_manager.cc:114] Feedback manager requires a model with a single signature inference. Disabling support for feedback tensors.\n"
     ]
    },
    {
     "name": "stdout",
     "output_type": "stream",
     "text": [
      "20_c2.mp4\n"
     ]
    },
    {
     "name": "stderr",
     "output_type": "stream",
     "text": [
      "I0000 00:00:1744335203.058581 7797518 gl_context.cc:369] GL version: 2.1 (2.1 Metal - 88.1), renderer: Apple M1\n",
      "I0000 00:00:1744335203.064861 7797518 gl_context.cc:369] GL version: 2.1 (2.1 Metal - 88.1), renderer: Apple M1\n",
      "W0000 00:00:1744335203.067192 7801124 inference_feedback_manager.cc:114] Feedback manager requires a model with a single signature inference. Disabling support for feedback tensors.\n",
      "W0000 00:00:1744335203.074438 7801123 inference_feedback_manager.cc:114] Feedback manager requires a model with a single signature inference. Disabling support for feedback tensors.\n",
      "W0000 00:00:1744335203.077496 7801115 inference_feedback_manager.cc:114] Feedback manager requires a model with a single signature inference. Disabling support for feedback tensors.\n"
     ]
    },
    {
     "name": "stdout",
     "output_type": "stream",
     "text": [
      "3_c3.mp4\n"
     ]
    },
    {
     "name": "stderr",
     "output_type": "stream",
     "text": [
      "I0000 00:00:1744335262.905970 7797518 gl_context.cc:369] GL version: 2.1 (2.1 Metal - 88.1), renderer: Apple M1\n",
      "I0000 00:00:1744335262.911763 7797518 gl_context.cc:369] GL version: 2.1 (2.1 Metal - 88.1), renderer: Apple M1\n",
      "W0000 00:00:1744335262.914086 7801658 inference_feedback_manager.cc:114] Feedback manager requires a model with a single signature inference. Disabling support for feedback tensors.\n",
      "W0000 00:00:1744335262.921123 7801656 inference_feedback_manager.cc:114] Feedback manager requires a model with a single signature inference. Disabling support for feedback tensors.\n",
      "W0000 00:00:1744335262.924159 7801649 inference_feedback_manager.cc:114] Feedback manager requires a model with a single signature inference. Disabling support for feedback tensors.\n"
     ]
    },
    {
     "name": "stdout",
     "output_type": "stream",
     "text": [
      "16_c1.mp4\n"
     ]
    },
    {
     "name": "stderr",
     "output_type": "stream",
     "text": [
      "I0000 00:00:1744335369.966444 7797518 gl_context.cc:369] GL version: 2.1 (2.1 Metal - 88.1), renderer: Apple M1\n",
      "I0000 00:00:1744335369.972461 7797518 gl_context.cc:369] GL version: 2.1 (2.1 Metal - 88.1), renderer: Apple M1\n",
      "W0000 00:00:1744335369.975267 7802783 inference_feedback_manager.cc:114] Feedback manager requires a model with a single signature inference. Disabling support for feedback tensors.\n",
      "W0000 00:00:1744335369.982647 7802780 inference_feedback_manager.cc:114] Feedback manager requires a model with a single signature inference. Disabling support for feedback tensors.\n",
      "W0000 00:00:1744335369.985947 7802772 inference_feedback_manager.cc:114] Feedback manager requires a model with a single signature inference. Disabling support for feedback tensors.\n"
     ]
    },
    {
     "name": "stdout",
     "output_type": "stream",
     "text": [
      "3_c2.mp4\n"
     ]
    },
    {
     "name": "stderr",
     "output_type": "stream",
     "text": [
      "I0000 00:00:1744335430.701482 7797518 gl_context.cc:369] GL version: 2.1 (2.1 Metal - 88.1), renderer: Apple M1\n",
      "I0000 00:00:1744335430.708314 7797518 gl_context.cc:369] GL version: 2.1 (2.1 Metal - 88.1), renderer: Apple M1\n",
      "W0000 00:00:1744335430.711421 7803358 inference_feedback_manager.cc:114] Feedback manager requires a model with a single signature inference. Disabling support for feedback tensors.\n",
      "W0000 00:00:1744335430.718312 7803359 inference_feedback_manager.cc:114] Feedback manager requires a model with a single signature inference. Disabling support for feedback tensors.\n",
      "W0000 00:00:1744335430.719945 7803351 inference_feedback_manager.cc:114] Feedback manager requires a model with a single signature inference. Disabling support for feedback tensors.\n"
     ]
    },
    {
     "name": "stdout",
     "output_type": "stream",
     "text": [
      "20_c1.mp4\n"
     ]
    },
    {
     "name": "stderr",
     "output_type": "stream",
     "text": [
      "I0000 00:00:1744335492.784383 7797518 gl_context.cc:369] GL version: 2.1 (2.1 Metal - 88.1), renderer: Apple M1\n",
      "I0000 00:00:1744335492.790881 7797518 gl_context.cc:369] GL version: 2.1 (2.1 Metal - 88.1), renderer: Apple M1\n",
      "W0000 00:00:1744335492.792573 7804019 inference_feedback_manager.cc:114] Feedback manager requires a model with a single signature inference. Disabling support for feedback tensors.\n",
      "W0000 00:00:1744335492.799371 7804024 inference_feedback_manager.cc:114] Feedback manager requires a model with a single signature inference. Disabling support for feedback tensors.\n",
      "W0000 00:00:1744335492.802415 7804012 inference_feedback_manager.cc:114] Feedback manager requires a model with a single signature inference. Disabling support for feedback tensors.\n"
     ]
    },
    {
     "name": "stdout",
     "output_type": "stream",
     "text": [
      "18_c1.mp4\n"
     ]
    },
    {
     "name": "stderr",
     "output_type": "stream",
     "text": [
      "I0000 00:00:1744335550.922283 7797518 gl_context.cc:369] GL version: 2.1 (2.1 Metal - 88.1), renderer: Apple M1\n",
      "I0000 00:00:1744335550.929391 7797518 gl_context.cc:369] GL version: 2.1 (2.1 Metal - 88.1), renderer: Apple M1\n",
      "W0000 00:00:1744335550.931689 7804807 inference_feedback_manager.cc:114] Feedback manager requires a model with a single signature inference. Disabling support for feedback tensors.\n",
      "W0000 00:00:1744335550.938808 7804807 inference_feedback_manager.cc:114] Feedback manager requires a model with a single signature inference. Disabling support for feedback tensors.\n",
      "W0000 00:00:1744335550.940334 7804801 inference_feedback_manager.cc:114] Feedback manager requires a model with a single signature inference. Disabling support for feedback tensors.\n"
     ]
    },
    {
     "name": "stdout",
     "output_type": "stream",
     "text": [
      "14_c1.mp4\n"
     ]
    },
    {
     "name": "stderr",
     "output_type": "stream",
     "text": [
      "I0000 00:00:1744335610.078070 7797518 gl_context.cc:369] GL version: 2.1 (2.1 Metal - 88.1), renderer: Apple M1\n",
      "I0000 00:00:1744335610.085689 7797518 gl_context.cc:369] GL version: 2.1 (2.1 Metal - 88.1), renderer: Apple M1\n",
      "W0000 00:00:1744335610.088196 7805510 inference_feedback_manager.cc:114] Feedback manager requires a model with a single signature inference. Disabling support for feedback tensors.\n",
      "W0000 00:00:1744335610.095885 7805513 inference_feedback_manager.cc:114] Feedback manager requires a model with a single signature inference. Disabling support for feedback tensors.\n",
      "W0000 00:00:1744335610.097352 7805501 inference_feedback_manager.cc:114] Feedback manager requires a model with a single signature inference. Disabling support for feedback tensors.\n",
      "OpenCV: Couldn't read video stream from file \"/Users/iduli/Desktop/Ch2_25_Scientific_Data/Final/raw_Dataset/SENSORS/VIDEO/parsed_video/1st/.DS_Store\"\n",
      "I0000 00:00:1744335663.644308 7797518 gl_context.cc:369] GL version: 2.1 (2.1 Metal - 88.1), renderer: Apple M1\n",
      "I0000 00:00:1744335663.652341 7797518 gl_context.cc:369] GL version: 2.1 (2.1 Metal - 88.1), renderer: Apple M1\n",
      "W0000 00:00:1744335663.654529 7806152 inference_feedback_manager.cc:114] Feedback manager requires a model with a single signature inference. Disabling support for feedback tensors.\n",
      "W0000 00:00:1744335663.661317 7806153 inference_feedback_manager.cc:114] Feedback manager requires a model with a single signature inference. Disabling support for feedback tensors.\n",
      "W0000 00:00:1744335663.663421 7806140 inference_feedback_manager.cc:114] Feedback manager requires a model with a single signature inference. Disabling support for feedback tensors.\n"
     ]
    },
    {
     "name": "stdout",
     "output_type": "stream",
     "text": [
      "Cannot open video /Users/iduli/Desktop/Ch2_25_Scientific_Data/Final/raw_Dataset/SENSORS/VIDEO/parsed_video/1st/.DS_Store\n",
      "1_c3.mp4\n",
      "1_c2.mp4\n"
     ]
    },
    {
     "name": "stderr",
     "output_type": "stream",
     "text": [
      "I0000 00:00:1744335723.715967 7797518 gl_context.cc:369] GL version: 2.1 (2.1 Metal - 88.1), renderer: Apple M1\n",
      "I0000 00:00:1744335723.722276 7797518 gl_context.cc:369] GL version: 2.1 (2.1 Metal - 88.1), renderer: Apple M1\n",
      "W0000 00:00:1744335723.724604 7806648 inference_feedback_manager.cc:114] Feedback manager requires a model with a single signature inference. Disabling support for feedback tensors.\n",
      "W0000 00:00:1744335723.732432 7806647 inference_feedback_manager.cc:114] Feedback manager requires a model with a single signature inference. Disabling support for feedback tensors.\n",
      "W0000 00:00:1744335723.735479 7806640 inference_feedback_manager.cc:114] Feedback manager requires a model with a single signature inference. Disabling support for feedback tensors.\n"
     ]
    },
    {
     "name": "stdout",
     "output_type": "stream",
     "text": [
      "22_c1.mp4\n"
     ]
    },
    {
     "name": "stderr",
     "output_type": "stream",
     "text": [
      "I0000 00:00:1744335783.042100 7797518 gl_context.cc:369] GL version: 2.1 (2.1 Metal - 88.1), renderer: Apple M1\n",
      "I0000 00:00:1744335783.049330 7797518 gl_context.cc:369] GL version: 2.1 (2.1 Metal - 88.1), renderer: Apple M1\n",
      "W0000 00:00:1744335783.051467 7807247 inference_feedback_manager.cc:114] Feedback manager requires a model with a single signature inference. Disabling support for feedback tensors.\n",
      "W0000 00:00:1744335783.058625 7807243 inference_feedback_manager.cc:114] Feedback manager requires a model with a single signature inference. Disabling support for feedback tensors.\n",
      "W0000 00:00:1744335783.060643 7807235 inference_feedback_manager.cc:114] Feedback manager requires a model with a single signature inference. Disabling support for feedback tensors.\n"
     ]
    },
    {
     "name": "stdout",
     "output_type": "stream",
     "text": [
      "18_c2.mp4\n"
     ]
    },
    {
     "name": "stderr",
     "output_type": "stream",
     "text": [
      "I0000 00:00:1744335837.936433 7797518 gl_context.cc:369] GL version: 2.1 (2.1 Metal - 88.1), renderer: Apple M1\n",
      "I0000 00:00:1744335837.942105 7797518 gl_context.cc:369] GL version: 2.1 (2.1 Metal - 88.1), renderer: Apple M1\n",
      "W0000 00:00:1744335837.944243 7807747 inference_feedback_manager.cc:114] Feedback manager requires a model with a single signature inference. Disabling support for feedback tensors.\n",
      "W0000 00:00:1744335837.951341 7807743 inference_feedback_manager.cc:114] Feedback manager requires a model with a single signature inference. Disabling support for feedback tensors.\n",
      "W0000 00:00:1744335837.954928 7807734 inference_feedback_manager.cc:114] Feedback manager requires a model with a single signature inference. Disabling support for feedback tensors.\n"
     ]
    },
    {
     "name": "stdout",
     "output_type": "stream",
     "text": [
      "14_c2.mp4\n"
     ]
    },
    {
     "name": "stderr",
     "output_type": "stream",
     "text": [
      "I0000 00:00:1744335899.144081 7797518 gl_context.cc:369] GL version: 2.1 (2.1 Metal - 88.1), renderer: Apple M1\n",
      "I0000 00:00:1744335899.150231 7797518 gl_context.cc:369] GL version: 2.1 (2.1 Metal - 88.1), renderer: Apple M1\n",
      "W0000 00:00:1744335899.152314 7808317 inference_feedback_manager.cc:114] Feedback manager requires a model with a single signature inference. Disabling support for feedback tensors.\n",
      "W0000 00:00:1744335899.159388 7808315 inference_feedback_manager.cc:114] Feedback manager requires a model with a single signature inference. Disabling support for feedback tensors.\n",
      "W0000 00:00:1744335899.161800 7808308 inference_feedback_manager.cc:114] Feedback manager requires a model with a single signature inference. Disabling support for feedback tensors.\n"
     ]
    },
    {
     "name": "stdout",
     "output_type": "stream",
     "text": [
      "22_c3.mp4\n"
     ]
    },
    {
     "name": "stderr",
     "output_type": "stream",
     "text": [
      "I0000 00:00:1744335961.818780 7797518 gl_context.cc:369] GL version: 2.1 (2.1 Metal - 88.1), renderer: Apple M1\n",
      "I0000 00:00:1744335961.825357 7797518 gl_context.cc:369] GL version: 2.1 (2.1 Metal - 88.1), renderer: Apple M1\n",
      "W0000 00:00:1744335961.827736 7808954 inference_feedback_manager.cc:114] Feedback manager requires a model with a single signature inference. Disabling support for feedback tensors.\n",
      "W0000 00:00:1744335961.835265 7808950 inference_feedback_manager.cc:114] Feedback manager requires a model with a single signature inference. Disabling support for feedback tensors.\n",
      "W0000 00:00:1744335961.838065 7808943 inference_feedback_manager.cc:114] Feedback manager requires a model with a single signature inference. Disabling support for feedback tensors.\n"
     ]
    },
    {
     "name": "stdout",
     "output_type": "stream",
     "text": [
      "1_c1.mp4\n"
     ]
    },
    {
     "name": "stderr",
     "output_type": "stream",
     "text": [
      "I0000 00:00:1744336024.180356 7797518 gl_context.cc:369] GL version: 2.1 (2.1 Metal - 88.1), renderer: Apple M1\n",
      "I0000 00:00:1744336024.186516 7797518 gl_context.cc:369] GL version: 2.1 (2.1 Metal - 88.1), renderer: Apple M1\n",
      "W0000 00:00:1744336024.188162 7809423 inference_feedback_manager.cc:114] Feedback manager requires a model with a single signature inference. Disabling support for feedback tensors.\n",
      "W0000 00:00:1744336024.195137 7809422 inference_feedback_manager.cc:114] Feedback manager requires a model with a single signature inference. Disabling support for feedback tensors.\n",
      "W0000 00:00:1744336024.199307 7809414 inference_feedback_manager.cc:114] Feedback manager requires a model with a single signature inference. Disabling support for feedback tensors.\n"
     ]
    },
    {
     "name": "stdout",
     "output_type": "stream",
     "text": [
      "22_c2.mp4\n"
     ]
    },
    {
     "name": "stderr",
     "output_type": "stream",
     "text": [
      "I0000 00:00:1744336086.406789 7797518 gl_context.cc:369] GL version: 2.1 (2.1 Metal - 88.1), renderer: Apple M1\n",
      "I0000 00:00:1744336086.412784 7797518 gl_context.cc:369] GL version: 2.1 (2.1 Metal - 88.1), renderer: Apple M1\n",
      "W0000 00:00:1744336086.414953 7810074 inference_feedback_manager.cc:114] Feedback manager requires a model with a single signature inference. Disabling support for feedback tensors.\n",
      "W0000 00:00:1744336086.421712 7810071 inference_feedback_manager.cc:114] Feedback manager requires a model with a single signature inference. Disabling support for feedback tensors.\n",
      "W0000 00:00:1744336086.424326 7810064 inference_feedback_manager.cc:114] Feedback manager requires a model with a single signature inference. Disabling support for feedback tensors.\n"
     ]
    },
    {
     "name": "stdout",
     "output_type": "stream",
     "text": [
      "14_c3.mp4\n"
     ]
    },
    {
     "name": "stderr",
     "output_type": "stream",
     "text": [
      "I0000 00:00:1744336145.598069 7797518 gl_context.cc:369] GL version: 2.1 (2.1 Metal - 88.1), renderer: Apple M1\n",
      "I0000 00:00:1744336145.603945 7797518 gl_context.cc:369] GL version: 2.1 (2.1 Metal - 88.1), renderer: Apple M1\n",
      "W0000 00:00:1744336145.606147 7810587 inference_feedback_manager.cc:114] Feedback manager requires a model with a single signature inference. Disabling support for feedback tensors.\n",
      "W0000 00:00:1744336145.613316 7810593 inference_feedback_manager.cc:114] Feedback manager requires a model with a single signature inference. Disabling support for feedback tensors.\n",
      "W0000 00:00:1744336145.615887 7810580 inference_feedback_manager.cc:114] Feedback manager requires a model with a single signature inference. Disabling support for feedback tensors.\n"
     ]
    },
    {
     "name": "stdout",
     "output_type": "stream",
     "text": [
      "18_c3.mp4\n"
     ]
    },
    {
     "name": "stderr",
     "output_type": "stream",
     "text": [
      "I0000 00:00:1744336197.969638 7797518 gl_context.cc:369] GL version: 2.1 (2.1 Metal - 88.1), renderer: Apple M1\n",
      "I0000 00:00:1744336197.978398 7797518 gl_context.cc:369] GL version: 2.1 (2.1 Metal - 88.1), renderer: Apple M1\n",
      "W0000 00:00:1744336197.980632 7811019 inference_feedback_manager.cc:114] Feedback manager requires a model with a single signature inference. Disabling support for feedback tensors.\n",
      "W0000 00:00:1744336197.987853 7811015 inference_feedback_manager.cc:114] Feedback manager requires a model with a single signature inference. Disabling support for feedback tensors.\n",
      "W0000 00:00:1744336197.988224 7811009 inference_feedback_manager.cc:114] Feedback manager requires a model with a single signature inference. Disabling support for feedback tensors.\n"
     ]
    },
    {
     "name": "stdout",
     "output_type": "stream",
     "text": [
      "26_c1.mp4\n"
     ]
    },
    {
     "name": "stderr",
     "output_type": "stream",
     "text": [
      "I0000 00:00:1744336252.676065 7797518 gl_context.cc:369] GL version: 2.1 (2.1 Metal - 88.1), renderer: Apple M1\n",
      "I0000 00:00:1744336252.683386 7797518 gl_context.cc:369] GL version: 2.1 (2.1 Metal - 88.1), renderer: Apple M1\n",
      "W0000 00:00:1744336252.685986 7811447 inference_feedback_manager.cc:114] Feedback manager requires a model with a single signature inference. Disabling support for feedback tensors.\n",
      "W0000 00:00:1744336252.693364 7811451 inference_feedback_manager.cc:114] Feedback manager requires a model with a single signature inference. Disabling support for feedback tensors.\n",
      "W0000 00:00:1744336252.695079 7811440 inference_feedback_manager.cc:114] Feedback manager requires a model with a single signature inference. Disabling support for feedback tensors.\n"
     ]
    },
    {
     "name": "stdout",
     "output_type": "stream",
     "text": [
      "10_c1.mp4\n"
     ]
    },
    {
     "name": "stderr",
     "output_type": "stream",
     "text": [
      "I0000 00:00:1744336311.431700 7797518 gl_context.cc:369] GL version: 2.1 (2.1 Metal - 88.1), renderer: Apple M1\n",
      "I0000 00:00:1744336311.437897 7797518 gl_context.cc:369] GL version: 2.1 (2.1 Metal - 88.1), renderer: Apple M1\n",
      "W0000 00:00:1744336311.440104 7811991 inference_feedback_manager.cc:114] Feedback manager requires a model with a single signature inference. Disabling support for feedback tensors.\n",
      "W0000 00:00:1744336311.447169 7811997 inference_feedback_manager.cc:114] Feedback manager requires a model with a single signature inference. Disabling support for feedback tensors.\n",
      "W0000 00:00:1744336311.449370 7811984 inference_feedback_manager.cc:114] Feedback manager requires a model with a single signature inference. Disabling support for feedback tensors.\n"
     ]
    },
    {
     "name": "stdout",
     "output_type": "stream",
     "text": [
      "26_c2.mp4\n"
     ]
    },
    {
     "name": "stderr",
     "output_type": "stream",
     "text": [
      "I0000 00:00:1744336362.507185 7797518 gl_context.cc:369] GL version: 2.1 (2.1 Metal - 88.1), renderer: Apple M1\n",
      "I0000 00:00:1744336362.513908 7797518 gl_context.cc:369] GL version: 2.1 (2.1 Metal - 88.1), renderer: Apple M1\n",
      "W0000 00:00:1744336362.515852 7812468 inference_feedback_manager.cc:114] Feedback manager requires a model with a single signature inference. Disabling support for feedback tensors.\n",
      "W0000 00:00:1744336362.522163 7812466 inference_feedback_manager.cc:114] Feedback manager requires a model with a single signature inference. Disabling support for feedback tensors.\n",
      "W0000 00:00:1744336362.524150 7812459 inference_feedback_manager.cc:114] Feedback manager requires a model with a single signature inference. Disabling support for feedback tensors.\n"
     ]
    },
    {
     "name": "stdout",
     "output_type": "stream",
     "text": [
      "10_c3.mp4\n"
     ]
    },
    {
     "name": "stderr",
     "output_type": "stream",
     "text": [
      "I0000 00:00:1744336419.371423 7797518 gl_context.cc:369] GL version: 2.1 (2.1 Metal - 88.1), renderer: Apple M1\n",
      "I0000 00:00:1744336419.377096 7797518 gl_context.cc:369] GL version: 2.1 (2.1 Metal - 88.1), renderer: Apple M1\n",
      "W0000 00:00:1744336419.378755 7812945 inference_feedback_manager.cc:114] Feedback manager requires a model with a single signature inference. Disabling support for feedback tensors.\n",
      "W0000 00:00:1744336419.385397 7812951 inference_feedback_manager.cc:114] Feedback manager requires a model with a single signature inference. Disabling support for feedback tensors.\n",
      "W0000 00:00:1744336419.388936 7812938 inference_feedback_manager.cc:114] Feedback manager requires a model with a single signature inference. Disabling support for feedback tensors.\n"
     ]
    },
    {
     "name": "stdout",
     "output_type": "stream",
     "text": [
      "10_c2.mp4\n"
     ]
    },
    {
     "name": "stderr",
     "output_type": "stream",
     "text": [
      "I0000 00:00:1744336477.867703 7797518 gl_context.cc:369] GL version: 2.1 (2.1 Metal - 88.1), renderer: Apple M1\n",
      "I0000 00:00:1744336477.873960 7797518 gl_context.cc:369] GL version: 2.1 (2.1 Metal - 88.1), renderer: Apple M1\n",
      "W0000 00:00:1744336477.876722 7813510 inference_feedback_manager.cc:114] Feedback manager requires a model with a single signature inference. Disabling support for feedback tensors.\n",
      "W0000 00:00:1744336477.883743 7813512 inference_feedback_manager.cc:114] Feedback manager requires a model with a single signature inference. Disabling support for feedback tensors.\n",
      "W0000 00:00:1744336477.885154 7813502 inference_feedback_manager.cc:114] Feedback manager requires a model with a single signature inference. Disabling support for feedback tensors.\n"
     ]
    },
    {
     "name": "stdout",
     "output_type": "stream",
     "text": [
      "26_c3.mp4\n"
     ]
    },
    {
     "name": "stderr",
     "output_type": "stream",
     "text": [
      "I0000 00:00:1744336539.270402 7797518 gl_context.cc:369] GL version: 2.1 (2.1 Metal - 88.1), renderer: Apple M1\n",
      "I0000 00:00:1744336539.279606 7797518 gl_context.cc:369] GL version: 2.1 (2.1 Metal - 88.1), renderer: Apple M1\n",
      "W0000 00:00:1744336539.281640 7814006 inference_feedback_manager.cc:114] Feedback manager requires a model with a single signature inference. Disabling support for feedback tensors.\n",
      "W0000 00:00:1744336539.288563 7813999 inference_feedback_manager.cc:114] Feedback manager requires a model with a single signature inference. Disabling support for feedback tensors.\n",
      "W0000 00:00:1744336539.289277 7814010 inference_feedback_manager.cc:114] Feedback manager requires a model with a single signature inference. Disabling support for feedback tensors.\n"
     ]
    },
    {
     "name": "stdout",
     "output_type": "stream",
     "text": [
      "12_c3.mp4\n"
     ]
    },
    {
     "name": "stderr",
     "output_type": "stream",
     "text": [
      "I0000 00:00:1744336600.632252 7797518 gl_context.cc:369] GL version: 2.1 (2.1 Metal - 88.1), renderer: Apple M1\n",
      "I0000 00:00:1744336600.638875 7797518 gl_context.cc:369] GL version: 2.1 (2.1 Metal - 88.1), renderer: Apple M1\n",
      "W0000 00:00:1744336600.641110 7815001 inference_feedback_manager.cc:114] Feedback manager requires a model with a single signature inference. Disabling support for feedback tensors.\n",
      "W0000 00:00:1744336600.649058 7815003 inference_feedback_manager.cc:114] Feedback manager requires a model with a single signature inference. Disabling support for feedback tensors.\n",
      "W0000 00:00:1744336600.651072 7814989 inference_feedback_manager.cc:114] Feedback manager requires a model with a single signature inference. Disabling support for feedback tensors.\n"
     ]
    },
    {
     "name": "stdout",
     "output_type": "stream",
     "text": [
      "12_c2.mp4\n"
     ]
    },
    {
     "name": "stderr",
     "output_type": "stream",
     "text": [
      "I0000 00:00:1744336664.209782 7797518 gl_context.cc:369] GL version: 2.1 (2.1 Metal - 88.1), renderer: Apple M1\n",
      "I0000 00:00:1744336664.216711 7797518 gl_context.cc:369] GL version: 2.1 (2.1 Metal - 88.1), renderer: Apple M1\n",
      "W0000 00:00:1744336664.219622 7816045 inference_feedback_manager.cc:114] Feedback manager requires a model with a single signature inference. Disabling support for feedback tensors.\n",
      "W0000 00:00:1744336664.227119 7816046 inference_feedback_manager.cc:114] Feedback manager requires a model with a single signature inference. Disabling support for feedback tensors.\n",
      "W0000 00:00:1744336664.229538 7816035 inference_feedback_manager.cc:114] Feedback manager requires a model with a single signature inference. Disabling support for feedback tensors.\n"
     ]
    },
    {
     "name": "stdout",
     "output_type": "stream",
     "text": [
      "12_c1.mp4\n"
     ]
    },
    {
     "name": "stderr",
     "output_type": "stream",
     "text": [
      "I0000 00:00:1744336726.614232 7797518 gl_context.cc:369] GL version: 2.1 (2.1 Metal - 88.1), renderer: Apple M1\n",
      "I0000 00:00:1744336726.620612 7797518 gl_context.cc:369] GL version: 2.1 (2.1 Metal - 88.1), renderer: Apple M1\n",
      "W0000 00:00:1744336726.622981 7817076 inference_feedback_manager.cc:114] Feedback manager requires a model with a single signature inference. Disabling support for feedback tensors.\n",
      "W0000 00:00:1744336726.630499 7817075 inference_feedback_manager.cc:114] Feedback manager requires a model with a single signature inference. Disabling support for feedback tensors.\n",
      "W0000 00:00:1744336726.632420 7817063 inference_feedback_manager.cc:114] Feedback manager requires a model with a single signature inference. Disabling support for feedback tensors.\n"
     ]
    },
    {
     "name": "stdout",
     "output_type": "stream",
     "text": [
      "21_c1.mp4\n"
     ]
    },
    {
     "name": "stderr",
     "output_type": "stream",
     "text": [
      "I0000 00:00:1744336787.910915 7797518 gl_context.cc:369] GL version: 2.1 (2.1 Metal - 88.1), renderer: Apple M1\n",
      "I0000 00:00:1744336787.917832 7797518 gl_context.cc:369] GL version: 2.1 (2.1 Metal - 88.1), renderer: Apple M1\n",
      "W0000 00:00:1744336787.920017 7818025 inference_feedback_manager.cc:114] Feedback manager requires a model with a single signature inference. Disabling support for feedback tensors.\n",
      "W0000 00:00:1744336787.928263 7818031 inference_feedback_manager.cc:114] Feedback manager requires a model with a single signature inference. Disabling support for feedback tensors.\n",
      "W0000 00:00:1744336787.929029 7818020 inference_feedback_manager.cc:114] Feedback manager requires a model with a single signature inference. Disabling support for feedback tensors.\n"
     ]
    },
    {
     "name": "stdout",
     "output_type": "stream",
     "text": [
      "2_c2.mp4\n"
     ]
    },
    {
     "name": "stderr",
     "output_type": "stream",
     "text": [
      "I0000 00:00:1744336841.656940 7797518 gl_context.cc:369] GL version: 2.1 (2.1 Metal - 88.1), renderer: Apple M1\n",
      "I0000 00:00:1744336841.663640 7797518 gl_context.cc:369] GL version: 2.1 (2.1 Metal - 88.1), renderer: Apple M1\n",
      "W0000 00:00:1744336841.666171 7818923 inference_feedback_manager.cc:114] Feedback manager requires a model with a single signature inference. Disabling support for feedback tensors.\n",
      "W0000 00:00:1744336841.672644 7818920 inference_feedback_manager.cc:114] Feedback manager requires a model with a single signature inference. Disabling support for feedback tensors.\n",
      "W0000 00:00:1744336841.674933 7818912 inference_feedback_manager.cc:114] Feedback manager requires a model with a single signature inference. Disabling support for feedback tensors.\n"
     ]
    },
    {
     "name": "stdout",
     "output_type": "stream",
     "text": [
      "2_c3.mp4\n"
     ]
    },
    {
     "name": "stderr",
     "output_type": "stream",
     "text": [
      "I0000 00:00:1744336900.388354 7797518 gl_context.cc:369] GL version: 2.1 (2.1 Metal - 88.1), renderer: Apple M1\n",
      "I0000 00:00:1744336900.394059 7797518 gl_context.cc:369] GL version: 2.1 (2.1 Metal - 88.1), renderer: Apple M1\n",
      "W0000 00:00:1744336900.396119 7819680 inference_feedback_manager.cc:114] Feedback manager requires a model with a single signature inference. Disabling support for feedback tensors.\n",
      "W0000 00:00:1744336900.403323 7819677 inference_feedback_manager.cc:114] Feedback manager requires a model with a single signature inference. Disabling support for feedback tensors.\n",
      "W0000 00:00:1744336900.406625 7819669 inference_feedback_manager.cc:114] Feedback manager requires a model with a single signature inference. Disabling support for feedback tensors.\n"
     ]
    },
    {
     "name": "stdout",
     "output_type": "stream",
     "text": [
      "21_c2.mp4\n"
     ]
    },
    {
     "name": "stderr",
     "output_type": "stream",
     "text": [
      "I0000 00:00:1744336960.551667 7797518 gl_context.cc:369] GL version: 2.1 (2.1 Metal - 88.1), renderer: Apple M1\n",
      "I0000 00:00:1744336960.557635 7797518 gl_context.cc:369] GL version: 2.1 (2.1 Metal - 88.1), renderer: Apple M1\n",
      "W0000 00:00:1744336960.560212 7820609 inference_feedback_manager.cc:114] Feedback manager requires a model with a single signature inference. Disabling support for feedback tensors.\n",
      "W0000 00:00:1744336960.566641 7820607 inference_feedback_manager.cc:114] Feedback manager requires a model with a single signature inference. Disabling support for feedback tensors.\n",
      "W0000 00:00:1744336960.570920 7820600 inference_feedback_manager.cc:114] Feedback manager requires a model with a single signature inference. Disabling support for feedback tensors.\n"
     ]
    },
    {
     "name": "stdout",
     "output_type": "stream",
     "text": [
      "2_c1.mp4\n"
     ]
    },
    {
     "name": "stderr",
     "output_type": "stream",
     "text": [
      "I0000 00:00:1744337016.615198 7797518 gl_context.cc:369] GL version: 2.1 (2.1 Metal - 88.1), renderer: Apple M1\n",
      "I0000 00:00:1744337016.621648 7797518 gl_context.cc:369] GL version: 2.1 (2.1 Metal - 88.1), renderer: Apple M1\n",
      "W0000 00:00:1744337016.623840 7821416 inference_feedback_manager.cc:114] Feedback manager requires a model with a single signature inference. Disabling support for feedback tensors.\n",
      "W0000 00:00:1744337016.631731 7821417 inference_feedback_manager.cc:114] Feedback manager requires a model with a single signature inference. Disabling support for feedback tensors.\n",
      "W0000 00:00:1744337016.633324 7821408 inference_feedback_manager.cc:114] Feedback manager requires a model with a single signature inference. Disabling support for feedback tensors.\n"
     ]
    },
    {
     "name": "stdout",
     "output_type": "stream",
     "text": [
      "21_c3.mp4\n"
     ]
    },
    {
     "name": "stderr",
     "output_type": "stream",
     "text": [
      "I0000 00:00:1744337077.465980 7797518 gl_context.cc:369] GL version: 2.1 (2.1 Metal - 88.1), renderer: Apple M1\n",
      "I0000 00:00:1744337077.471983 7797518 gl_context.cc:369] GL version: 2.1 (2.1 Metal - 88.1), renderer: Apple M1\n",
      "W0000 00:00:1744337077.474213 7822329 inference_feedback_manager.cc:114] Feedback manager requires a model with a single signature inference. Disabling support for feedback tensors.\n",
      "W0000 00:00:1744337077.481372 7822333 inference_feedback_manager.cc:114] Feedback manager requires a model with a single signature inference. Disabling support for feedback tensors.\n",
      "W0000 00:00:1744337077.484182 7822322 inference_feedback_manager.cc:114] Feedback manager requires a model with a single signature inference. Disabling support for feedback tensors.\n"
     ]
    },
    {
     "name": "stdout",
     "output_type": "stream",
     "text": [
      "23_c2.mp4\n"
     ]
    },
    {
     "name": "stderr",
     "output_type": "stream",
     "text": [
      "I0000 00:00:1744337137.007933 7797518 gl_context.cc:369] GL version: 2.1 (2.1 Metal - 88.1), renderer: Apple M1\n",
      "I0000 00:00:1744337137.014493 7797518 gl_context.cc:369] GL version: 2.1 (2.1 Metal - 88.1), renderer: Apple M1\n",
      "W0000 00:00:1744337137.016939 7822997 inference_feedback_manager.cc:114] Feedback manager requires a model with a single signature inference. Disabling support for feedback tensors.\n",
      "W0000 00:00:1744337137.026282 7822996 inference_feedback_manager.cc:114] Feedback manager requires a model with a single signature inference. Disabling support for feedback tensors.\n",
      "W0000 00:00:1744337137.026633 7822987 inference_feedback_manager.cc:114] Feedback manager requires a model with a single signature inference. Disabling support for feedback tensors.\n"
     ]
    },
    {
     "name": "stdout",
     "output_type": "stream",
     "text": [
      "19_c3.mp4\n"
     ]
    },
    {
     "name": "stderr",
     "output_type": "stream",
     "text": [
      "I0000 00:00:1744337195.222818 7797518 gl_context.cc:369] GL version: 2.1 (2.1 Metal - 88.1), renderer: Apple M1\n",
      "I0000 00:00:1744337195.228481 7797518 gl_context.cc:369] GL version: 2.1 (2.1 Metal - 88.1), renderer: Apple M1\n",
      "W0000 00:00:1744337195.230550 7823735 inference_feedback_manager.cc:114] Feedback manager requires a model with a single signature inference. Disabling support for feedback tensors.\n",
      "W0000 00:00:1744337195.237483 7823731 inference_feedback_manager.cc:114] Feedback manager requires a model with a single signature inference. Disabling support for feedback tensors.\n",
      "W0000 00:00:1744337195.241292 7823723 inference_feedback_manager.cc:114] Feedback manager requires a model with a single signature inference. Disabling support for feedback tensors.\n"
     ]
    },
    {
     "name": "stdout",
     "output_type": "stream",
     "text": [
      "19_c2.mp4\n"
     ]
    },
    {
     "name": "stderr",
     "output_type": "stream",
     "text": [
      "I0000 00:00:1744337257.230641 7797518 gl_context.cc:369] GL version: 2.1 (2.1 Metal - 88.1), renderer: Apple M1\n",
      "I0000 00:00:1744337257.237408 7797518 gl_context.cc:369] GL version: 2.1 (2.1 Metal - 88.1), renderer: Apple M1\n",
      "W0000 00:00:1744337257.239959 7825020 inference_feedback_manager.cc:114] Feedback manager requires a model with a single signature inference. Disabling support for feedback tensors.\n",
      "W0000 00:00:1744337257.247649 7825022 inference_feedback_manager.cc:114] Feedback manager requires a model with a single signature inference. Disabling support for feedback tensors.\n",
      "W0000 00:00:1744337257.249951 7825011 inference_feedback_manager.cc:114] Feedback manager requires a model with a single signature inference. Disabling support for feedback tensors.\n"
     ]
    },
    {
     "name": "stdout",
     "output_type": "stream",
     "text": [
      "23_c3.mp4\n"
     ]
    },
    {
     "name": "stderr",
     "output_type": "stream",
     "text": [
      "I0000 00:00:1744337317.905324 7797518 gl_context.cc:369] GL version: 2.1 (2.1 Metal - 88.1), renderer: Apple M1\n",
      "I0000 00:00:1744337317.911844 7797518 gl_context.cc:369] GL version: 2.1 (2.1 Metal - 88.1), renderer: Apple M1\n",
      "W0000 00:00:1744337317.914277 7825930 inference_feedback_manager.cc:114] Feedback manager requires a model with a single signature inference. Disabling support for feedback tensors.\n",
      "W0000 00:00:1744337317.921243 7825931 inference_feedback_manager.cc:114] Feedback manager requires a model with a single signature inference. Disabling support for feedback tensors.\n",
      "W0000 00:00:1744337317.923510 7825922 inference_feedback_manager.cc:114] Feedback manager requires a model with a single signature inference. Disabling support for feedback tensors.\n"
     ]
    },
    {
     "name": "stdout",
     "output_type": "stream",
     "text": [
      "23_c1.mp4\n"
     ]
    },
    {
     "name": "stderr",
     "output_type": "stream",
     "text": [
      "I0000 00:00:1744337378.962691 7797518 gl_context.cc:369] GL version: 2.1 (2.1 Metal - 88.1), renderer: Apple M1\n",
      "I0000 00:00:1744337378.969382 7797518 gl_context.cc:369] GL version: 2.1 (2.1 Metal - 88.1), renderer: Apple M1\n",
      "W0000 00:00:1744337378.971764 7826742 inference_feedback_manager.cc:114] Feedback manager requires a model with a single signature inference. Disabling support for feedback tensors.\n",
      "W0000 00:00:1744337378.980211 7826739 inference_feedback_manager.cc:114] Feedback manager requires a model with a single signature inference. Disabling support for feedback tensors.\n",
      "W0000 00:00:1744337378.988193 7826732 inference_feedback_manager.cc:114] Feedback manager requires a model with a single signature inference. Disabling support for feedback tensors.\n"
     ]
    },
    {
     "name": "stdout",
     "output_type": "stream",
     "text": [
      "19_c1.mp4\n"
     ]
    },
    {
     "name": "stderr",
     "output_type": "stream",
     "text": [
      "I0000 00:00:1744337436.321546 7797518 gl_context.cc:369] GL version: 2.1 (2.1 Metal - 88.1), renderer: Apple M1\n",
      "I0000 00:00:1744337436.327359 7797518 gl_context.cc:369] GL version: 2.1 (2.1 Metal - 88.1), renderer: Apple M1\n",
      "W0000 00:00:1744337436.329255 7827530 inference_feedback_manager.cc:114] Feedback manager requires a model with a single signature inference. Disabling support for feedback tensors.\n",
      "W0000 00:00:1744337436.336762 7827533 inference_feedback_manager.cc:114] Feedback manager requires a model with a single signature inference. Disabling support for feedback tensors.\n",
      "W0000 00:00:1744337436.339395 7827522 inference_feedback_manager.cc:114] Feedback manager requires a model with a single signature inference. Disabling support for feedback tensors.\n"
     ]
    },
    {
     "name": "stdout",
     "output_type": "stream",
     "text": [
      "15_c1.mp4\n"
     ]
    },
    {
     "name": "stderr",
     "output_type": "stream",
     "text": [
      "I0000 00:00:1744337491.132761 7797518 gl_context.cc:369] GL version: 2.1 (2.1 Metal - 88.1), renderer: Apple M1\n",
      "I0000 00:00:1744337491.139114 7797518 gl_context.cc:369] GL version: 2.1 (2.1 Metal - 88.1), renderer: Apple M1\n",
      "W0000 00:00:1744337491.142056 7828326 inference_feedback_manager.cc:114] Feedback manager requires a model with a single signature inference. Disabling support for feedback tensors.\n",
      "W0000 00:00:1744337491.148429 7828325 inference_feedback_manager.cc:114] Feedback manager requires a model with a single signature inference. Disabling support for feedback tensors.\n",
      "W0000 00:00:1744337491.150925 7828318 inference_feedback_manager.cc:114] Feedback manager requires a model with a single signature inference. Disabling support for feedback tensors.\n"
     ]
    },
    {
     "name": "stdout",
     "output_type": "stream",
     "text": [
      "27_c3.mp4\n"
     ]
    },
    {
     "name": "stderr",
     "output_type": "stream",
     "text": [
      "I0000 00:00:1744337548.874470 7797518 gl_context.cc:369] GL version: 2.1 (2.1 Metal - 88.1), renderer: Apple M1\n",
      "I0000 00:00:1744337548.880439 7797518 gl_context.cc:369] GL version: 2.1 (2.1 Metal - 88.1), renderer: Apple M1\n",
      "W0000 00:00:1744337548.882595 7828813 inference_feedback_manager.cc:114] Feedback manager requires a model with a single signature inference. Disabling support for feedback tensors.\n",
      "W0000 00:00:1744337548.889678 7828816 inference_feedback_manager.cc:114] Feedback manager requires a model with a single signature inference. Disabling support for feedback tensors.\n",
      "W0000 00:00:1744337548.892347 7828803 inference_feedback_manager.cc:114] Feedback manager requires a model with a single signature inference. Disabling support for feedback tensors.\n"
     ]
    },
    {
     "name": "stdout",
     "output_type": "stream",
     "text": [
      "8_c1.mp4\n"
     ]
    },
    {
     "name": "stderr",
     "output_type": "stream",
     "text": [
      "I0000 00:00:1744337610.832294 7797518 gl_context.cc:369] GL version: 2.1 (2.1 Metal - 88.1), renderer: Apple M1\n",
      "I0000 00:00:1744337610.838549 7797518 gl_context.cc:369] GL version: 2.1 (2.1 Metal - 88.1), renderer: Apple M1\n",
      "W0000 00:00:1744337610.841122 7829320 inference_feedback_manager.cc:114] Feedback manager requires a model with a single signature inference. Disabling support for feedback tensors.\n",
      "W0000 00:00:1744337610.847941 7829324 inference_feedback_manager.cc:114] Feedback manager requires a model with a single signature inference. Disabling support for feedback tensors.\n",
      "W0000 00:00:1744337610.851210 7829312 inference_feedback_manager.cc:114] Feedback manager requires a model with a single signature inference. Disabling support for feedback tensors.\n"
     ]
    },
    {
     "name": "stdout",
     "output_type": "stream",
     "text": [
      "4_c1.mp4\n"
     ]
    },
    {
     "name": "stderr",
     "output_type": "stream",
     "text": [
      "I0000 00:00:1744337667.377297 7797518 gl_context.cc:369] GL version: 2.1 (2.1 Metal - 88.1), renderer: Apple M1\n",
      "I0000 00:00:1744337667.382584 7797518 gl_context.cc:369] GL version: 2.1 (2.1 Metal - 88.1), renderer: Apple M1\n",
      "W0000 00:00:1744337667.385076 7829729 inference_feedback_manager.cc:114] Feedback manager requires a model with a single signature inference. Disabling support for feedback tensors.\n",
      "W0000 00:00:1744337667.391505 7829729 inference_feedback_manager.cc:114] Feedback manager requires a model with a single signature inference. Disabling support for feedback tensors.\n",
      "W0000 00:00:1744337667.395780 7829721 inference_feedback_manager.cc:114] Feedback manager requires a model with a single signature inference. Disabling support for feedback tensors.\n"
     ]
    },
    {
     "name": "stdout",
     "output_type": "stream",
     "text": [
      "27_c2.mp4\n"
     ]
    },
    {
     "name": "stderr",
     "output_type": "stream",
     "text": [
      "I0000 00:00:1744337722.985456 7797518 gl_context.cc:369] GL version: 2.1 (2.1 Metal - 88.1), renderer: Apple M1\n",
      "I0000 00:00:1744337722.990793 7797518 gl_context.cc:369] GL version: 2.1 (2.1 Metal - 88.1), renderer: Apple M1\n",
      "W0000 00:00:1744337722.993081 7830229 inference_feedback_manager.cc:114] Feedback manager requires a model with a single signature inference. Disabling support for feedback tensors.\n",
      "W0000 00:00:1744337723.000152 7830232 inference_feedback_manager.cc:114] Feedback manager requires a model with a single signature inference. Disabling support for feedback tensors.\n",
      "W0000 00:00:1744337723.003844 7830221 inference_feedback_manager.cc:114] Feedback manager requires a model with a single signature inference. Disabling support for feedback tensors.\n"
     ]
    },
    {
     "name": "stdout",
     "output_type": "stream",
     "text": [
      "4_c3.mp4\n"
     ]
    },
    {
     "name": "stderr",
     "output_type": "stream",
     "text": [
      "I0000 00:00:1744337775.928561 7797518 gl_context.cc:369] GL version: 2.1 (2.1 Metal - 88.1), renderer: Apple M1\n",
      "I0000 00:00:1744337775.934686 7797518 gl_context.cc:369] GL version: 2.1 (2.1 Metal - 88.1), renderer: Apple M1\n",
      "W0000 00:00:1744337775.936804 7830835 inference_feedback_manager.cc:114] Feedback manager requires a model with a single signature inference. Disabling support for feedback tensors.\n",
      "W0000 00:00:1744337775.943929 7830837 inference_feedback_manager.cc:114] Feedback manager requires a model with a single signature inference. Disabling support for feedback tensors.\n",
      "W0000 00:00:1744337775.946027 7830827 inference_feedback_manager.cc:114] Feedback manager requires a model with a single signature inference. Disabling support for feedback tensors.\n"
     ]
    },
    {
     "name": "stdout",
     "output_type": "stream",
     "text": [
      "8_c3.mp4\n"
     ]
    },
    {
     "name": "stderr",
     "output_type": "stream",
     "text": [
      "I0000 00:00:1744337828.602137 7797518 gl_context.cc:369] GL version: 2.1 (2.1 Metal - 88.1), renderer: Apple M1\n",
      "I0000 00:00:1744337828.607771 7797518 gl_context.cc:369] GL version: 2.1 (2.1 Metal - 88.1), renderer: Apple M1\n",
      "W0000 00:00:1744337828.610261 7831409 inference_feedback_manager.cc:114] Feedback manager requires a model with a single signature inference. Disabling support for feedback tensors.\n",
      "W0000 00:00:1744337828.617850 7831406 inference_feedback_manager.cc:114] Feedback manager requires a model with a single signature inference. Disabling support for feedback tensors.\n",
      "W0000 00:00:1744337828.620626 7831398 inference_feedback_manager.cc:114] Feedback manager requires a model with a single signature inference. Disabling support for feedback tensors.\n"
     ]
    },
    {
     "name": "stdout",
     "output_type": "stream",
     "text": [
      "8_c2.mp4\n"
     ]
    },
    {
     "name": "stderr",
     "output_type": "stream",
     "text": [
      "I0000 00:00:1744337887.538261 7797518 gl_context.cc:369] GL version: 2.1 (2.1 Metal - 88.1), renderer: Apple M1\n",
      "I0000 00:00:1744337887.544126 7797518 gl_context.cc:369] GL version: 2.1 (2.1 Metal - 88.1), renderer: Apple M1\n",
      "W0000 00:00:1744337887.545848 7831911 inference_feedback_manager.cc:114] Feedback manager requires a model with a single signature inference. Disabling support for feedback tensors.\n",
      "W0000 00:00:1744337887.552135 7831908 inference_feedback_manager.cc:114] Feedback manager requires a model with a single signature inference. Disabling support for feedback tensors.\n",
      "W0000 00:00:1744337887.555213 7831900 inference_feedback_manager.cc:114] Feedback manager requires a model with a single signature inference. Disabling support for feedback tensors.\n"
     ]
    },
    {
     "name": "stdout",
     "output_type": "stream",
     "text": [
      "4_c2.mp4\n"
     ]
    },
    {
     "name": "stderr",
     "output_type": "stream",
     "text": [
      "I0000 00:00:1744337942.728537 7797518 gl_context.cc:369] GL version: 2.1 (2.1 Metal - 88.1), renderer: Apple M1\n",
      "I0000 00:00:1744337942.734437 7797518 gl_context.cc:369] GL version: 2.1 (2.1 Metal - 88.1), renderer: Apple M1\n",
      "W0000 00:00:1744337942.736620 7832398 inference_feedback_manager.cc:114] Feedback manager requires a model with a single signature inference. Disabling support for feedback tensors.\n",
      "W0000 00:00:1744337942.744400 7832392 inference_feedback_manager.cc:114] Feedback manager requires a model with a single signature inference. Disabling support for feedback tensors.\n",
      "W0000 00:00:1744337942.746572 7832385 inference_feedback_manager.cc:114] Feedback manager requires a model with a single signature inference. Disabling support for feedback tensors.\n"
     ]
    },
    {
     "name": "stdout",
     "output_type": "stream",
     "text": [
      "27_c1.mp4\n"
     ]
    },
    {
     "name": "stderr",
     "output_type": "stream",
     "text": [
      "I0000 00:00:1744337999.571374 7797518 gl_context.cc:369] GL version: 2.1 (2.1 Metal - 88.1), renderer: Apple M1\n",
      "I0000 00:00:1744337999.577164 7797518 gl_context.cc:369] GL version: 2.1 (2.1 Metal - 88.1), renderer: Apple M1\n",
      "W0000 00:00:1744337999.579338 7832937 inference_feedback_manager.cc:114] Feedback manager requires a model with a single signature inference. Disabling support for feedback tensors.\n",
      "W0000 00:00:1744337999.586711 7832942 inference_feedback_manager.cc:114] Feedback manager requires a model with a single signature inference. Disabling support for feedback tensors.\n",
      "W0000 00:00:1744337999.589206 7832929 inference_feedback_manager.cc:114] Feedback manager requires a model with a single signature inference. Disabling support for feedback tensors.\n"
     ]
    },
    {
     "name": "stdout",
     "output_type": "stream",
     "text": [
      "13_c1.mp4\n"
     ]
    },
    {
     "name": "stderr",
     "output_type": "stream",
     "text": [
      "I0000 00:00:1744338051.686897 7797518 gl_context.cc:369] GL version: 2.1 (2.1 Metal - 88.1), renderer: Apple M1\n",
      "I0000 00:00:1744338051.692636 7797518 gl_context.cc:369] GL version: 2.1 (2.1 Metal - 88.1), renderer: Apple M1\n",
      "W0000 00:00:1744338051.694575 7833379 inference_feedback_manager.cc:114] Feedback manager requires a model with a single signature inference. Disabling support for feedback tensors.\n",
      "W0000 00:00:1744338051.703352 7833377 inference_feedback_manager.cc:114] Feedback manager requires a model with a single signature inference. Disabling support for feedback tensors.\n",
      "W0000 00:00:1744338051.707600 7833372 inference_feedback_manager.cc:114] Feedback manager requires a model with a single signature inference. Disabling support for feedback tensors.\n"
     ]
    },
    {
     "name": "stdout",
     "output_type": "stream",
     "text": [
      "25_c1.mp4\n"
     ]
    },
    {
     "name": "stderr",
     "output_type": "stream",
     "text": [
      "I0000 00:00:1744338111.857104 7797518 gl_context.cc:369] GL version: 2.1 (2.1 Metal - 88.1), renderer: Apple M1\n",
      "I0000 00:00:1744338111.863230 7797518 gl_context.cc:369] GL version: 2.1 (2.1 Metal - 88.1), renderer: Apple M1\n",
      "W0000 00:00:1744338111.865237 7833976 inference_feedback_manager.cc:114] Feedback manager requires a model with a single signature inference. Disabling support for feedback tensors.\n",
      "W0000 00:00:1744338111.872762 7833977 inference_feedback_manager.cc:114] Feedback manager requires a model with a single signature inference. Disabling support for feedback tensors.\n",
      "W0000 00:00:1744338111.876030 7833968 inference_feedback_manager.cc:114] Feedback manager requires a model with a single signature inference. Disabling support for feedback tensors.\n"
     ]
    },
    {
     "name": "stdout",
     "output_type": "stream",
     "text": [
      "13_c0.mp4\n"
     ]
    },
    {
     "name": "stderr",
     "output_type": "stream",
     "text": [
      "I0000 00:00:1744338170.755035 7797518 gl_context.cc:369] GL version: 2.1 (2.1 Metal - 88.1), renderer: Apple M1\n",
      "I0000 00:00:1744338170.761417 7797518 gl_context.cc:369] GL version: 2.1 (2.1 Metal - 88.1), renderer: Apple M1\n",
      "W0000 00:00:1744338170.764245 7834655 inference_feedback_manager.cc:114] Feedback manager requires a model with a single signature inference. Disabling support for feedback tensors.\n",
      "W0000 00:00:1744338170.770495 7834654 inference_feedback_manager.cc:114] Feedback manager requires a model with a single signature inference. Disabling support for feedback tensors.\n",
      "W0000 00:00:1744338170.773226 7834646 inference_feedback_manager.cc:114] Feedback manager requires a model with a single signature inference. Disabling support for feedback tensors.\n"
     ]
    },
    {
     "name": "stdout",
     "output_type": "stream",
     "text": [
      "13_c2.mp4\n"
     ]
    },
    {
     "name": "stderr",
     "output_type": "stream",
     "text": [
      "I0000 00:00:1744338226.085599 7797518 gl_context.cc:369] GL version: 2.1 (2.1 Metal - 88.1), renderer: Apple M1\n",
      "I0000 00:00:1744338226.091233 7797518 gl_context.cc:369] GL version: 2.1 (2.1 Metal - 88.1), renderer: Apple M1\n",
      "W0000 00:00:1744338226.093581 7835235 inference_feedback_manager.cc:114] Feedback manager requires a model with a single signature inference. Disabling support for feedback tensors.\n",
      "W0000 00:00:1744338226.100336 7835234 inference_feedback_manager.cc:114] Feedback manager requires a model with a single signature inference. Disabling support for feedback tensors.\n",
      "W0000 00:00:1744338226.104039 7835227 inference_feedback_manager.cc:114] Feedback manager requires a model with a single signature inference. Disabling support for feedback tensors.\n"
     ]
    },
    {
     "name": "stdout",
     "output_type": "stream",
     "text": [
      "25_c3.mp4\n"
     ]
    },
    {
     "name": "stderr",
     "output_type": "stream",
     "text": [
      "I0000 00:00:1744338285.180251 7797518 gl_context.cc:369] GL version: 2.1 (2.1 Metal - 88.1), renderer: Apple M1\n",
      "I0000 00:00:1744338285.186690 7797518 gl_context.cc:369] GL version: 2.1 (2.1 Metal - 88.1), renderer: Apple M1\n",
      "W0000 00:00:1744338285.188989 7835871 inference_feedback_manager.cc:114] Feedback manager requires a model with a single signature inference. Disabling support for feedback tensors.\n",
      "W0000 00:00:1744338285.196492 7835875 inference_feedback_manager.cc:114] Feedback manager requires a model with a single signature inference. Disabling support for feedback tensors.\n",
      "W0000 00:00:1744338285.198845 7835864 inference_feedback_manager.cc:114] Feedback manager requires a model with a single signature inference. Disabling support for feedback tensors.\n"
     ]
    },
    {
     "name": "stdout",
     "output_type": "stream",
     "text": [
      "25_c2.mp4\n"
     ]
    },
    {
     "name": "stderr",
     "output_type": "stream",
     "text": [
      "I0000 00:00:1744338345.360810 7797518 gl_context.cc:369] GL version: 2.1 (2.1 Metal - 88.1), renderer: Apple M1\n",
      "I0000 00:00:1744338345.366021 7797518 gl_context.cc:369] GL version: 2.1 (2.1 Metal - 88.1), renderer: Apple M1\n",
      "W0000 00:00:1744338345.368318 7836393 inference_feedback_manager.cc:114] Feedback manager requires a model with a single signature inference. Disabling support for feedback tensors.\n",
      "W0000 00:00:1744338345.377888 7836393 inference_feedback_manager.cc:114] Feedback manager requires a model with a single signature inference. Disabling support for feedback tensors.\n",
      "W0000 00:00:1744338345.378915 7836380 inference_feedback_manager.cc:114] Feedback manager requires a model with a single signature inference. Disabling support for feedback tensors.\n"
     ]
    },
    {
     "name": "stdout",
     "output_type": "stream",
     "text": [
      "13_c3.mp4\n"
     ]
    },
    {
     "name": "stderr",
     "output_type": "stream",
     "text": [
      "I0000 00:00:1744338404.203710 7797518 gl_context.cc:369] GL version: 2.1 (2.1 Metal - 88.1), renderer: Apple M1\n",
      "I0000 00:00:1744338404.209368 7797518 gl_context.cc:369] GL version: 2.1 (2.1 Metal - 88.1), renderer: Apple M1\n",
      "W0000 00:00:1744338404.211647 7837041 inference_feedback_manager.cc:114] Feedback manager requires a model with a single signature inference. Disabling support for feedback tensors.\n",
      "W0000 00:00:1744338404.218345 7837040 inference_feedback_manager.cc:114] Feedback manager requires a model with a single signature inference. Disabling support for feedback tensors.\n",
      "W0000 00:00:1744338404.222221 7837034 inference_feedback_manager.cc:114] Feedback manager requires a model with a single signature inference. Disabling support for feedback tensors.\n"
     ]
    }
   ],
   "source": [
    "video_folder = '/Users/iduli/Desktop/Ch2_25_Scientific_Data/Final/raw_Dataset/SENSORS/VIDEO/parsed_video/1st'\n",
    "result_folder = '/Users/iduli/Desktop/Ch2_25_Scientific_Data/Final/raw_Dataset/SENSORS/VIDEO/features/1st'\n",
    "\n",
    "\n",
    "for file in os.listdir(video_folder): \n",
    "    process_video(os.path.join(video_folder,file))"
   ]
  },
  {
   "cell_type": "code",
   "execution_count": 10,
   "metadata": {},
   "outputs": [
    {
     "name": "stdout",
     "output_type": "stream",
     "text": [
      "3_c1.mp4\n"
     ]
    },
    {
     "name": "stderr",
     "output_type": "stream",
     "text": [
      "I0000 00:00:1744338462.503780 7797518 gl_context.cc:369] GL version: 2.1 (2.1 Metal - 88.1), renderer: Apple M1\n",
      "I0000 00:00:1744338462.509961 7797518 gl_context.cc:369] GL version: 2.1 (2.1 Metal - 88.1), renderer: Apple M1\n",
      "W0000 00:00:1744338462.512016 7837491 inference_feedback_manager.cc:114] Feedback manager requires a model with a single signature inference. Disabling support for feedback tensors.\n",
      "W0000 00:00:1744338462.520206 7837495 inference_feedback_manager.cc:114] Feedback manager requires a model with a single signature inference. Disabling support for feedback tensors.\n",
      "W0000 00:00:1744338462.523231 7837479 inference_feedback_manager.cc:114] Feedback manager requires a model with a single signature inference. Disabling support for feedback tensors.\n"
     ]
    },
    {
     "name": "stdout",
     "output_type": "stream",
     "text": [
      "3_c3.mp4\n"
     ]
    },
    {
     "name": "stderr",
     "output_type": "stream",
     "text": [
      "I0000 00:00:1744338521.935130 7797518 gl_context.cc:369] GL version: 2.1 (2.1 Metal - 88.1), renderer: Apple M1\n",
      "I0000 00:00:1744338521.941491 7797518 gl_context.cc:369] GL version: 2.1 (2.1 Metal - 88.1), renderer: Apple M1\n",
      "W0000 00:00:1744338521.943076 7837995 inference_feedback_manager.cc:114] Feedback manager requires a model with a single signature inference. Disabling support for feedback tensors.\n",
      "W0000 00:00:1744338521.949378 7837991 inference_feedback_manager.cc:114] Feedback manager requires a model with a single signature inference. Disabling support for feedback tensors.\n",
      "W0000 00:00:1744338521.952766 7837984 inference_feedback_manager.cc:114] Feedback manager requires a model with a single signature inference. Disabling support for feedback tensors.\n"
     ]
    },
    {
     "name": "stdout",
     "output_type": "stream",
     "text": [
      "3_c2.mp4\n"
     ]
    },
    {
     "name": "stderr",
     "output_type": "stream",
     "text": [
      "I0000 00:00:1744338579.669933 7797518 gl_context.cc:369] GL version: 2.1 (2.1 Metal - 88.1), renderer: Apple M1\n",
      "I0000 00:00:1744338579.675764 7797518 gl_context.cc:369] GL version: 2.1 (2.1 Metal - 88.1), renderer: Apple M1\n",
      "W0000 00:00:1744338579.677795 7838432 inference_feedback_manager.cc:114] Feedback manager requires a model with a single signature inference. Disabling support for feedback tensors.\n",
      "W0000 00:00:1744338579.684275 7838432 inference_feedback_manager.cc:114] Feedback manager requires a model with a single signature inference. Disabling support for feedback tensors.\n",
      "W0000 00:00:1744338579.686954 7838424 inference_feedback_manager.cc:114] Feedback manager requires a model with a single signature inference. Disabling support for feedback tensors.\n"
     ]
    },
    {
     "name": "stdout",
     "output_type": "stream",
     "text": [
      "14_c1.mp4\n"
     ]
    },
    {
     "name": "stderr",
     "output_type": "stream",
     "text": [
      "I0000 00:00:1744338645.453428 7797518 gl_context.cc:369] GL version: 2.1 (2.1 Metal - 88.1), renderer: Apple M1\n",
      "I0000 00:00:1744338645.467669 7797518 gl_context.cc:369] GL version: 2.1 (2.1 Metal - 88.1), renderer: Apple M1\n",
      "W0000 00:00:1744338645.470088 7839540 inference_feedback_manager.cc:114] Feedback manager requires a model with a single signature inference. Disabling support for feedback tensors.\n",
      "W0000 00:00:1744338645.472757 7839531 inference_feedback_manager.cc:114] Feedback manager requires a model with a single signature inference. Disabling support for feedback tensors.\n",
      "W0000 00:00:1744338645.496606 7839539 inference_feedback_manager.cc:114] Feedback manager requires a model with a single signature inference. Disabling support for feedback tensors.\n",
      "OpenCV: Couldn't read video stream from file \"/Users/iduli/Desktop/Ch2_25_Scientific_Data/Final/raw_Dataset/SENSORS/VIDEO/parsed_video/2nd/.DS_Store\"\n",
      "I0000 00:00:1744338708.771376 7797518 gl_context.cc:369] GL version: 2.1 (2.1 Metal - 88.1), renderer: Apple M1\n",
      "I0000 00:00:1744338708.777603 7797518 gl_context.cc:369] GL version: 2.1 (2.1 Metal - 88.1), renderer: Apple M1\n",
      "W0000 00:00:1744338708.780266 7840531 inference_feedback_manager.cc:114] Feedback manager requires a model with a single signature inference. Disabling support for feedback tensors.\n",
      "W0000 00:00:1744338708.787770 7840529 inference_feedback_manager.cc:114] Feedback manager requires a model with a single signature inference. Disabling support for feedback tensors.\n",
      "W0000 00:00:1744338708.790404 7840520 inference_feedback_manager.cc:114] Feedback manager requires a model with a single signature inference. Disabling support for feedback tensors.\n"
     ]
    },
    {
     "name": "stdout",
     "output_type": "stream",
     "text": [
      "Cannot open video /Users/iduli/Desktop/Ch2_25_Scientific_Data/Final/raw_Dataset/SENSORS/VIDEO/parsed_video/2nd/.DS_Store\n",
      "1_c3.mp4\n",
      "1_c2.mp4\n"
     ]
    },
    {
     "name": "stderr",
     "output_type": "stream",
     "text": [
      "I0000 00:00:1744338772.050444 7797518 gl_context.cc:369] GL version: 2.1 (2.1 Metal - 88.1), renderer: Apple M1\n",
      "I0000 00:00:1744338772.060596 7797518 gl_context.cc:369] GL version: 2.1 (2.1 Metal - 88.1), renderer: Apple M1\n",
      "W0000 00:00:1744338772.063565 7841207 inference_feedback_manager.cc:114] Feedback manager requires a model with a single signature inference. Disabling support for feedback tensors.\n",
      "W0000 00:00:1744338772.069381 7841197 inference_feedback_manager.cc:114] Feedback manager requires a model with a single signature inference. Disabling support for feedback tensors.\n",
      "W0000 00:00:1744338772.070568 7841204 inference_feedback_manager.cc:114] Feedback manager requires a model with a single signature inference. Disabling support for feedback tensors.\n"
     ]
    },
    {
     "name": "stdout",
     "output_type": "stream",
     "text": [
      "14_c2.mp4\n"
     ]
    },
    {
     "name": "stderr",
     "output_type": "stream",
     "text": [
      "I0000 00:00:1744338834.636405 7797518 gl_context.cc:369] GL version: 2.1 (2.1 Metal - 88.1), renderer: Apple M1\n",
      "I0000 00:00:1744338834.644895 7797518 gl_context.cc:369] GL version: 2.1 (2.1 Metal - 88.1), renderer: Apple M1\n",
      "W0000 00:00:1744338834.648784 7841666 inference_feedback_manager.cc:114] Feedback manager requires a model with a single signature inference. Disabling support for feedback tensors.\n",
      "W0000 00:00:1744338834.653988 7841656 inference_feedback_manager.cc:114] Feedback manager requires a model with a single signature inference. Disabling support for feedback tensors.\n",
      "W0000 00:00:1744338834.655593 7841666 inference_feedback_manager.cc:114] Feedback manager requires a model with a single signature inference. Disabling support for feedback tensors.\n"
     ]
    },
    {
     "name": "stdout",
     "output_type": "stream",
     "text": [
      "1_c1.mp4\n"
     ]
    },
    {
     "name": "stderr",
     "output_type": "stream",
     "text": [
      "I0000 00:00:1744338892.551791 7797518 gl_context.cc:369] GL version: 2.1 (2.1 Metal - 88.1), renderer: Apple M1\n",
      "I0000 00:00:1744338892.557775 7797518 gl_context.cc:369] GL version: 2.1 (2.1 Metal - 88.1), renderer: Apple M1\n",
      "W0000 00:00:1744338892.560133 7842369 inference_feedback_manager.cc:114] Feedback manager requires a model with a single signature inference. Disabling support for feedback tensors.\n",
      "W0000 00:00:1744338892.567267 7842372 inference_feedback_manager.cc:114] Feedback manager requires a model with a single signature inference. Disabling support for feedback tensors.\n",
      "W0000 00:00:1744338892.570872 7842362 inference_feedback_manager.cc:114] Feedback manager requires a model with a single signature inference. Disabling support for feedback tensors.\n"
     ]
    },
    {
     "name": "stdout",
     "output_type": "stream",
     "text": [
      "14_c3.mp4\n"
     ]
    },
    {
     "name": "stderr",
     "output_type": "stream",
     "text": [
      "I0000 00:00:1744338965.449568 7797518 gl_context.cc:369] GL version: 2.1 (2.1 Metal - 88.1), renderer: Apple M1\n",
      "I0000 00:00:1744338965.456215 7797518 gl_context.cc:369] GL version: 2.1 (2.1 Metal - 88.1), renderer: Apple M1\n",
      "W0000 00:00:1744338965.458476 7843042 inference_feedback_manager.cc:114] Feedback manager requires a model with a single signature inference. Disabling support for feedback tensors.\n",
      "W0000 00:00:1744338965.466137 7843041 inference_feedback_manager.cc:114] Feedback manager requires a model with a single signature inference. Disabling support for feedback tensors.\n",
      "W0000 00:00:1744338965.467467 7843035 inference_feedback_manager.cc:114] Feedback manager requires a model with a single signature inference. Disabling support for feedback tensors.\n"
     ]
    },
    {
     "name": "stdout",
     "output_type": "stream",
     "text": [
      "5_c2.mp4\n"
     ]
    },
    {
     "name": "stderr",
     "output_type": "stream",
     "text": [
      "I0000 00:00:1744339030.618173 7797518 gl_context.cc:369] GL version: 2.1 (2.1 Metal - 88.1), renderer: Apple M1\n",
      "I0000 00:00:1744339030.623771 7797518 gl_context.cc:369] GL version: 2.1 (2.1 Metal - 88.1), renderer: Apple M1\n",
      "W0000 00:00:1744339030.626304 7843636 inference_feedback_manager.cc:114] Feedback manager requires a model with a single signature inference. Disabling support for feedback tensors.\n",
      "W0000 00:00:1744339030.633915 7843636 inference_feedback_manager.cc:114] Feedback manager requires a model with a single signature inference. Disabling support for feedback tensors.\n",
      "W0000 00:00:1744339030.637949 7843626 inference_feedback_manager.cc:114] Feedback manager requires a model with a single signature inference. Disabling support for feedback tensors.\n"
     ]
    },
    {
     "name": "stdout",
     "output_type": "stream",
     "text": [
      "10_c1.mp4\n"
     ]
    },
    {
     "name": "stderr",
     "output_type": "stream",
     "text": [
      "I0000 00:00:1744339094.594610 7797518 gl_context.cc:369] GL version: 2.1 (2.1 Metal - 88.1), renderer: Apple M1\n",
      "I0000 00:00:1744339094.601137 7797518 gl_context.cc:369] GL version: 2.1 (2.1 Metal - 88.1), renderer: Apple M1\n",
      "W0000 00:00:1744339094.603199 7844239 inference_feedback_manager.cc:114] Feedback manager requires a model with a single signature inference. Disabling support for feedback tensors.\n",
      "W0000 00:00:1744339094.610739 7844238 inference_feedback_manager.cc:114] Feedback manager requires a model with a single signature inference. Disabling support for feedback tensors.\n",
      "W0000 00:00:1744339094.613243 7844229 inference_feedback_manager.cc:114] Feedback manager requires a model with a single signature inference. Disabling support for feedback tensors.\n"
     ]
    },
    {
     "name": "stdout",
     "output_type": "stream",
     "text": [
      "5_c3.mp4\n"
     ]
    },
    {
     "name": "stderr",
     "output_type": "stream",
     "text": [
      "I0000 00:00:1744339157.881930 7797518 gl_context.cc:369] GL version: 2.1 (2.1 Metal - 88.1), renderer: Apple M1\n",
      "I0000 00:00:1744339157.888126 7797518 gl_context.cc:369] GL version: 2.1 (2.1 Metal - 88.1), renderer: Apple M1\n",
      "W0000 00:00:1744339157.890168 7844849 inference_feedback_manager.cc:114] Feedback manager requires a model with a single signature inference. Disabling support for feedback tensors.\n",
      "W0000 00:00:1744339157.898656 7844853 inference_feedback_manager.cc:114] Feedback manager requires a model with a single signature inference. Disabling support for feedback tensors.\n",
      "W0000 00:00:1744339157.900622 7844842 inference_feedback_manager.cc:114] Feedback manager requires a model with a single signature inference. Disabling support for feedback tensors.\n"
     ]
    },
    {
     "name": "stdout",
     "output_type": "stream",
     "text": [
      "5_c1.mp4\n"
     ]
    },
    {
     "name": "stderr",
     "output_type": "stream",
     "text": [
      "I0000 00:00:1744339224.946027 7797518 gl_context.cc:369] GL version: 2.1 (2.1 Metal - 88.1), renderer: Apple M1\n",
      "I0000 00:00:1744339224.952560 7797518 gl_context.cc:369] GL version: 2.1 (2.1 Metal - 88.1), renderer: Apple M1\n",
      "W0000 00:00:1744339224.954885 7845386 inference_feedback_manager.cc:114] Feedback manager requires a model with a single signature inference. Disabling support for feedback tensors.\n",
      "W0000 00:00:1744339224.962004 7845385 inference_feedback_manager.cc:114] Feedback manager requires a model with a single signature inference. Disabling support for feedback tensors.\n",
      "W0000 00:00:1744339224.964385 7845379 inference_feedback_manager.cc:114] Feedback manager requires a model with a single signature inference. Disabling support for feedback tensors.\n"
     ]
    },
    {
     "name": "stdout",
     "output_type": "stream",
     "text": [
      "10_c3.mp4\n"
     ]
    },
    {
     "name": "stderr",
     "output_type": "stream",
     "text": [
      "I0000 00:00:1744339295.839687 7797518 gl_context.cc:369] GL version: 2.1 (2.1 Metal - 88.1), renderer: Apple M1\n",
      "I0000 00:00:1744339295.848175 7797518 gl_context.cc:369] GL version: 2.1 (2.1 Metal - 88.1), renderer: Apple M1\n",
      "W0000 00:00:1744339295.850636 7846203 inference_feedback_manager.cc:114] Feedback manager requires a model with a single signature inference. Disabling support for feedback tensors.\n",
      "W0000 00:00:1744339295.856854 7846196 inference_feedback_manager.cc:114] Feedback manager requires a model with a single signature inference. Disabling support for feedback tensors.\n",
      "W0000 00:00:1744339295.858077 7846202 inference_feedback_manager.cc:114] Feedback manager requires a model with a single signature inference. Disabling support for feedback tensors.\n"
     ]
    },
    {
     "name": "stdout",
     "output_type": "stream",
     "text": [
      "10_c2.mp4\n"
     ]
    },
    {
     "name": "stderr",
     "output_type": "stream",
     "text": [
      "I0000 00:00:1744339357.389990 7797518 gl_context.cc:369] GL version: 2.1 (2.1 Metal - 88.1), renderer: Apple M1\n",
      "I0000 00:00:1744339357.396495 7797518 gl_context.cc:369] GL version: 2.1 (2.1 Metal - 88.1), renderer: Apple M1\n",
      "W0000 00:00:1744339357.398611 7846683 inference_feedback_manager.cc:114] Feedback manager requires a model with a single signature inference. Disabling support for feedback tensors.\n",
      "W0000 00:00:1744339357.405043 7846683 inference_feedback_manager.cc:114] Feedback manager requires a model with a single signature inference. Disabling support for feedback tensors.\n",
      "W0000 00:00:1744339357.406888 7846673 inference_feedback_manager.cc:114] Feedback manager requires a model with a single signature inference. Disabling support for feedback tensors.\n"
     ]
    },
    {
     "name": "stdout",
     "output_type": "stream",
     "text": [
      "12_c3.mp4\n"
     ]
    },
    {
     "name": "stderr",
     "output_type": "stream",
     "text": [
      "I0000 00:00:1744339420.065341 7797518 gl_context.cc:369] GL version: 2.1 (2.1 Metal - 88.1), renderer: Apple M1\n",
      "I0000 00:00:1744339420.075424 7797518 gl_context.cc:369] GL version: 2.1 (2.1 Metal - 88.1), renderer: Apple M1\n",
      "W0000 00:00:1744339420.077767 7847319 inference_feedback_manager.cc:114] Feedback manager requires a model with a single signature inference. Disabling support for feedback tensors.\n",
      "W0000 00:00:1744339420.082572 7847312 inference_feedback_manager.cc:114] Feedback manager requires a model with a single signature inference. Disabling support for feedback tensors.\n",
      "W0000 00:00:1744339420.084969 7847321 inference_feedback_manager.cc:114] Feedback manager requires a model with a single signature inference. Disabling support for feedback tensors.\n"
     ]
    },
    {
     "name": "stdout",
     "output_type": "stream",
     "text": [
      "12_c2.mp4\n"
     ]
    },
    {
     "name": "stderr",
     "output_type": "stream",
     "text": [
      "I0000 00:00:1744339480.672437 7797518 gl_context.cc:369] GL version: 2.1 (2.1 Metal - 88.1), renderer: Apple M1\n",
      "I0000 00:00:1744339480.679233 7797518 gl_context.cc:369] GL version: 2.1 (2.1 Metal - 88.1), renderer: Apple M1\n",
      "W0000 00:00:1744339480.681410 7847871 inference_feedback_manager.cc:114] Feedback manager requires a model with a single signature inference. Disabling support for feedback tensors.\n",
      "W0000 00:00:1744339480.689094 7847869 inference_feedback_manager.cc:114] Feedback manager requires a model with a single signature inference. Disabling support for feedback tensors.\n",
      "W0000 00:00:1744339480.691521 7847862 inference_feedback_manager.cc:114] Feedback manager requires a model with a single signature inference. Disabling support for feedback tensors.\n"
     ]
    },
    {
     "name": "stdout",
     "output_type": "stream",
     "text": [
      "12_c1.mp4\n"
     ]
    },
    {
     "name": "stderr",
     "output_type": "stream",
     "text": [
      "I0000 00:00:1744339543.845655 7797518 gl_context.cc:369] GL version: 2.1 (2.1 Metal - 88.1), renderer: Apple M1\n",
      "I0000 00:00:1744339543.852060 7797518 gl_context.cc:369] GL version: 2.1 (2.1 Metal - 88.1), renderer: Apple M1\n",
      "W0000 00:00:1744339543.854400 7848384 inference_feedback_manager.cc:114] Feedback manager requires a model with a single signature inference. Disabling support for feedback tensors.\n",
      "W0000 00:00:1744339543.861641 7848380 inference_feedback_manager.cc:114] Feedback manager requires a model with a single signature inference. Disabling support for feedback tensors.\n",
      "W0000 00:00:1744339543.862898 7848372 inference_feedback_manager.cc:114] Feedback manager requires a model with a single signature inference. Disabling support for feedback tensors.\n"
     ]
    },
    {
     "name": "stdout",
     "output_type": "stream",
     "text": [
      "2_c2.mp4\n"
     ]
    },
    {
     "name": "stderr",
     "output_type": "stream",
     "text": [
      "I0000 00:00:1744339604.117614 7797518 gl_context.cc:369] GL version: 2.1 (2.1 Metal - 88.1), renderer: Apple M1\n",
      "I0000 00:00:1744339604.124449 7797518 gl_context.cc:369] GL version: 2.1 (2.1 Metal - 88.1), renderer: Apple M1\n",
      "W0000 00:00:1744339604.126531 7848946 inference_feedback_manager.cc:114] Feedback manager requires a model with a single signature inference. Disabling support for feedback tensors.\n",
      "W0000 00:00:1744339604.133997 7848947 inference_feedback_manager.cc:114] Feedback manager requires a model with a single signature inference. Disabling support for feedback tensors.\n",
      "W0000 00:00:1744339604.135790 7848938 inference_feedback_manager.cc:114] Feedback manager requires a model with a single signature inference. Disabling support for feedback tensors.\n"
     ]
    },
    {
     "name": "stdout",
     "output_type": "stream",
     "text": [
      "2_c3.mp4\n"
     ]
    },
    {
     "name": "stderr",
     "output_type": "stream",
     "text": [
      "I0000 00:00:1744339666.792817 7797518 gl_context.cc:369] GL version: 2.1 (2.1 Metal - 88.1), renderer: Apple M1\n",
      "I0000 00:00:1744339666.803250 7797518 gl_context.cc:369] GL version: 2.1 (2.1 Metal - 88.1), renderer: Apple M1\n",
      "W0000 00:00:1744339666.805712 7849411 inference_feedback_manager.cc:114] Feedback manager requires a model with a single signature inference. Disabling support for feedback tensors.\n",
      "W0000 00:00:1744339666.810014 7849400 inference_feedback_manager.cc:114] Feedback manager requires a model with a single signature inference. Disabling support for feedback tensors.\n",
      "W0000 00:00:1744339666.813423 7849409 inference_feedback_manager.cc:114] Feedback manager requires a model with a single signature inference. Disabling support for feedback tensors.\n"
     ]
    },
    {
     "name": "stdout",
     "output_type": "stream",
     "text": [
      "2_c1.mp4\n"
     ]
    },
    {
     "name": "stderr",
     "output_type": "stream",
     "text": [
      "I0000 00:00:1744339726.603620 7797518 gl_context.cc:369] GL version: 2.1 (2.1 Metal - 88.1), renderer: Apple M1\n",
      "I0000 00:00:1744339726.610121 7797518 gl_context.cc:369] GL version: 2.1 (2.1 Metal - 88.1), renderer: Apple M1\n",
      "W0000 00:00:1744339726.612359 7849885 inference_feedback_manager.cc:114] Feedback manager requires a model with a single signature inference. Disabling support for feedback tensors.\n",
      "W0000 00:00:1744339726.620415 7849889 inference_feedback_manager.cc:114] Feedback manager requires a model with a single signature inference. Disabling support for feedback tensors.\n",
      "W0000 00:00:1744339726.622391 7849879 inference_feedback_manager.cc:114] Feedback manager requires a model with a single signature inference. Disabling support for feedback tensors.\n"
     ]
    },
    {
     "name": "stdout",
     "output_type": "stream",
     "text": [
      "15_c3.mp4\n"
     ]
    },
    {
     "name": "stderr",
     "output_type": "stream",
     "text": [
      "I0000 00:00:1744339790.117759 7797518 gl_context.cc:369] GL version: 2.1 (2.1 Metal - 88.1), renderer: Apple M1\n",
      "I0000 00:00:1744339790.123903 7797518 gl_context.cc:369] GL version: 2.1 (2.1 Metal - 88.1), renderer: Apple M1\n",
      "W0000 00:00:1744339790.126015 7850367 inference_feedback_manager.cc:114] Feedback manager requires a model with a single signature inference. Disabling support for feedback tensors.\n",
      "W0000 00:00:1744339790.133736 7850368 inference_feedback_manager.cc:114] Feedback manager requires a model with a single signature inference. Disabling support for feedback tensors.\n",
      "W0000 00:00:1744339790.136907 7850359 inference_feedback_manager.cc:114] Feedback manager requires a model with a single signature inference. Disabling support for feedback tensors.\n"
     ]
    },
    {
     "name": "stdout",
     "output_type": "stream",
     "text": [
      "15_c2.mp4\n"
     ]
    },
    {
     "name": "stderr",
     "output_type": "stream",
     "text": [
      "I0000 00:00:1744339856.818799 7797518 gl_context.cc:369] GL version: 2.1 (2.1 Metal - 88.1), renderer: Apple M1\n",
      "I0000 00:00:1744339856.829291 7797518 gl_context.cc:369] GL version: 2.1 (2.1 Metal - 88.1), renderer: Apple M1\n",
      "W0000 00:00:1744339856.831480 7850863 inference_feedback_manager.cc:114] Feedback manager requires a model with a single signature inference. Disabling support for feedback tensors.\n",
      "W0000 00:00:1744339856.835919 7850853 inference_feedback_manager.cc:114] Feedback manager requires a model with a single signature inference. Disabling support for feedback tensors.\n",
      "W0000 00:00:1744339856.839143 7850861 inference_feedback_manager.cc:114] Feedback manager requires a model with a single signature inference. Disabling support for feedback tensors.\n"
     ]
    },
    {
     "name": "stdout",
     "output_type": "stream",
     "text": [
      "15_c1.mp4\n"
     ]
    },
    {
     "name": "stderr",
     "output_type": "stream",
     "text": [
      "I0000 00:00:1744339912.201659 7797518 gl_context.cc:369] GL version: 2.1 (2.1 Metal - 88.1), renderer: Apple M1\n",
      "I0000 00:00:1744339912.207486 7797518 gl_context.cc:369] GL version: 2.1 (2.1 Metal - 88.1), renderer: Apple M1\n",
      "W0000 00:00:1744339912.209346 7851348 inference_feedback_manager.cc:114] Feedback manager requires a model with a single signature inference. Disabling support for feedback tensors.\n",
      "W0000 00:00:1744339912.217092 7851343 inference_feedback_manager.cc:114] Feedback manager requires a model with a single signature inference. Disabling support for feedback tensors.\n",
      "W0000 00:00:1744339912.219670 7851335 inference_feedback_manager.cc:114] Feedback manager requires a model with a single signature inference. Disabling support for feedback tensors.\n"
     ]
    },
    {
     "name": "stdout",
     "output_type": "stream",
     "text": [
      "11_c2.mp4\n"
     ]
    },
    {
     "name": "stderr",
     "output_type": "stream",
     "text": [
      "I0000 00:00:1744339988.529524 7797518 gl_context.cc:369] GL version: 2.1 (2.1 Metal - 88.1), renderer: Apple M1\n",
      "I0000 00:00:1744339988.535372 7797518 gl_context.cc:369] GL version: 2.1 (2.1 Metal - 88.1), renderer: Apple M1\n",
      "W0000 00:00:1744339988.537996 7851944 inference_feedback_manager.cc:114] Feedback manager requires a model with a single signature inference. Disabling support for feedback tensors.\n",
      "W0000 00:00:1744339988.545385 7851942 inference_feedback_manager.cc:114] Feedback manager requires a model with a single signature inference. Disabling support for feedback tensors.\n",
      "W0000 00:00:1744339988.547698 7851935 inference_feedback_manager.cc:114] Feedback manager requires a model with a single signature inference. Disabling support for feedback tensors.\n"
     ]
    },
    {
     "name": "stdout",
     "output_type": "stream",
     "text": [
      "8_c1.mp4\n"
     ]
    },
    {
     "name": "stderr",
     "output_type": "stream",
     "text": [
      "I0000 00:00:1744340049.771487 7797518 gl_context.cc:369] GL version: 2.1 (2.1 Metal - 88.1), renderer: Apple M1\n",
      "I0000 00:00:1744340049.778724 7797518 gl_context.cc:369] GL version: 2.1 (2.1 Metal - 88.1), renderer: Apple M1\n",
      "W0000 00:00:1744340049.781627 7852453 inference_feedback_manager.cc:114] Feedback manager requires a model with a single signature inference. Disabling support for feedback tensors.\n",
      "W0000 00:00:1744340049.788210 7852454 inference_feedback_manager.cc:114] Feedback manager requires a model with a single signature inference. Disabling support for feedback tensors.\n",
      "W0000 00:00:1744340049.788816 7852446 inference_feedback_manager.cc:114] Feedback manager requires a model with a single signature inference. Disabling support for feedback tensors.\n"
     ]
    },
    {
     "name": "stdout",
     "output_type": "stream",
     "text": [
      "11_c3.mp4\n"
     ]
    },
    {
     "name": "stderr",
     "output_type": "stream",
     "text": [
      "I0000 00:00:1744340109.777833 7797518 gl_context.cc:369] GL version: 2.1 (2.1 Metal - 88.1), renderer: Apple M1\n",
      "I0000 00:00:1744340109.784206 7797518 gl_context.cc:369] GL version: 2.1 (2.1 Metal - 88.1), renderer: Apple M1\n",
      "W0000 00:00:1744340109.785828 7852896 inference_feedback_manager.cc:114] Feedback manager requires a model with a single signature inference. Disabling support for feedback tensors.\n",
      "W0000 00:00:1744340109.792795 7852895 inference_feedback_manager.cc:114] Feedback manager requires a model with a single signature inference. Disabling support for feedback tensors.\n",
      "W0000 00:00:1744340109.795098 7852884 inference_feedback_manager.cc:114] Feedback manager requires a model with a single signature inference. Disabling support for feedback tensors.\n"
     ]
    },
    {
     "name": "stdout",
     "output_type": "stream",
     "text": [
      "4_c1.mp4\n"
     ]
    },
    {
     "name": "stderr",
     "output_type": "stream",
     "text": [
      "I0000 00:00:1744340173.990141 7797518 gl_context.cc:369] GL version: 2.1 (2.1 Metal - 88.1), renderer: Apple M1\n",
      "I0000 00:00:1744340173.997084 7797518 gl_context.cc:369] GL version: 2.1 (2.1 Metal - 88.1), renderer: Apple M1\n",
      "W0000 00:00:1744340173.999835 7853461 inference_feedback_manager.cc:114] Feedback manager requires a model with a single signature inference. Disabling support for feedback tensors.\n",
      "W0000 00:00:1744340174.007388 7853458 inference_feedback_manager.cc:114] Feedback manager requires a model with a single signature inference. Disabling support for feedback tensors.\n",
      "W0000 00:00:1744340174.008465 7853450 inference_feedback_manager.cc:114] Feedback manager requires a model with a single signature inference. Disabling support for feedback tensors.\n"
     ]
    },
    {
     "name": "stdout",
     "output_type": "stream",
     "text": [
      "4_c3.mp4\n"
     ]
    },
    {
     "name": "stderr",
     "output_type": "stream",
     "text": [
      "I0000 00:00:1744340235.875205 7797518 gl_context.cc:369] GL version: 2.1 (2.1 Metal - 88.1), renderer: Apple M1\n",
      "I0000 00:00:1744340235.882739 7797518 gl_context.cc:369] GL version: 2.1 (2.1 Metal - 88.1), renderer: Apple M1\n",
      "W0000 00:00:1744340235.884872 7853981 inference_feedback_manager.cc:114] Feedback manager requires a model with a single signature inference. Disabling support for feedback tensors.\n",
      "W0000 00:00:1744340235.892929 7853981 inference_feedback_manager.cc:114] Feedback manager requires a model with a single signature inference. Disabling support for feedback tensors.\n",
      "W0000 00:00:1744340235.894166 7853975 inference_feedback_manager.cc:114] Feedback manager requires a model with a single signature inference. Disabling support for feedback tensors.\n"
     ]
    },
    {
     "name": "stdout",
     "output_type": "stream",
     "text": [
      "11_c1.mp4\n"
     ]
    },
    {
     "name": "stderr",
     "output_type": "stream",
     "text": [
      "I0000 00:00:1744340287.281893 7797518 gl_context.cc:369] GL version: 2.1 (2.1 Metal - 88.1), renderer: Apple M1\n",
      "I0000 00:00:1744340287.288158 7797518 gl_context.cc:369] GL version: 2.1 (2.1 Metal - 88.1), renderer: Apple M1\n",
      "W0000 00:00:1744340287.290411 7854396 inference_feedback_manager.cc:114] Feedback manager requires a model with a single signature inference. Disabling support for feedback tensors.\n",
      "W0000 00:00:1744340287.298343 7854394 inference_feedback_manager.cc:114] Feedback manager requires a model with a single signature inference. Disabling support for feedback tensors.\n",
      "W0000 00:00:1744340287.299919 7854387 inference_feedback_manager.cc:114] Feedback manager requires a model with a single signature inference. Disabling support for feedback tensors.\n"
     ]
    },
    {
     "name": "stdout",
     "output_type": "stream",
     "text": [
      "8_c3.mp4\n"
     ]
    },
    {
     "name": "stderr",
     "output_type": "stream",
     "text": [
      "I0000 00:00:1744340354.839966 7797518 gl_context.cc:369] GL version: 2.1 (2.1 Metal - 88.1), renderer: Apple M1\n",
      "I0000 00:00:1744340354.846214 7797518 gl_context.cc:369] GL version: 2.1 (2.1 Metal - 88.1), renderer: Apple M1\n",
      "W0000 00:00:1744340354.848553 7854935 inference_feedback_manager.cc:114] Feedback manager requires a model with a single signature inference. Disabling support for feedback tensors.\n",
      "W0000 00:00:1744340354.855662 7854932 inference_feedback_manager.cc:114] Feedback manager requires a model with a single signature inference. Disabling support for feedback tensors.\n",
      "W0000 00:00:1744340354.857803 7854925 inference_feedback_manager.cc:114] Feedback manager requires a model with a single signature inference. Disabling support for feedback tensors.\n"
     ]
    },
    {
     "name": "stdout",
     "output_type": "stream",
     "text": [
      "8_c2.mp4\n"
     ]
    },
    {
     "name": "stderr",
     "output_type": "stream",
     "text": [
      "I0000 00:00:1744340414.818039 7797518 gl_context.cc:369] GL version: 2.1 (2.1 Metal - 88.1), renderer: Apple M1\n",
      "I0000 00:00:1744340414.825588 7797518 gl_context.cc:369] GL version: 2.1 (2.1 Metal - 88.1), renderer: Apple M1\n",
      "W0000 00:00:1744340414.827826 7855725 inference_feedback_manager.cc:114] Feedback manager requires a model with a single signature inference. Disabling support for feedback tensors.\n",
      "W0000 00:00:1744340414.835683 7855724 inference_feedback_manager.cc:114] Feedback manager requires a model with a single signature inference. Disabling support for feedback tensors.\n",
      "W0000 00:00:1744340414.836886 7855718 inference_feedback_manager.cc:114] Feedback manager requires a model with a single signature inference. Disabling support for feedback tensors.\n"
     ]
    },
    {
     "name": "stdout",
     "output_type": "stream",
     "text": [
      "4_c2.mp4\n"
     ]
    },
    {
     "name": "stderr",
     "output_type": "stream",
     "text": [
      "I0000 00:00:1744340473.850888 7797518 gl_context.cc:369] GL version: 2.1 (2.1 Metal - 88.1), renderer: Apple M1\n",
      "I0000 00:00:1744340473.857554 7797518 gl_context.cc:369] GL version: 2.1 (2.1 Metal - 88.1), renderer: Apple M1\n",
      "W0000 00:00:1744340473.859518 7856496 inference_feedback_manager.cc:114] Feedback manager requires a model with a single signature inference. Disabling support for feedback tensors.\n",
      "W0000 00:00:1744340473.867827 7856495 inference_feedback_manager.cc:114] Feedback manager requires a model with a single signature inference. Disabling support for feedback tensors.\n",
      "W0000 00:00:1744340473.869742 7856488 inference_feedback_manager.cc:114] Feedback manager requires a model with a single signature inference. Disabling support for feedback tensors.\n"
     ]
    },
    {
     "name": "stdout",
     "output_type": "stream",
     "text": [
      "13_c1.mp4\n"
     ]
    },
    {
     "name": "stderr",
     "output_type": "stream",
     "text": [
      "I0000 00:00:1744340534.384646 7797518 gl_context.cc:369] GL version: 2.1 (2.1 Metal - 88.1), renderer: Apple M1\n",
      "I0000 00:00:1744340534.399679 7797518 gl_context.cc:369] GL version: 2.1 (2.1 Metal - 88.1), renderer: Apple M1\n",
      "W0000 00:00:1744340534.401911 7857246 inference_feedback_manager.cc:114] Feedback manager requires a model with a single signature inference. Disabling support for feedback tensors.\n",
      "W0000 00:00:1744340534.402340 7857239 inference_feedback_manager.cc:114] Feedback manager requires a model with a single signature inference. Disabling support for feedback tensors.\n",
      "W0000 00:00:1744340534.409755 7857248 inference_feedback_manager.cc:114] Feedback manager requires a model with a single signature inference. Disabling support for feedback tensors.\n"
     ]
    },
    {
     "name": "stdout",
     "output_type": "stream",
     "text": [
      "6_c3.mp4\n"
     ]
    },
    {
     "name": "stderr",
     "output_type": "stream",
     "text": [
      "I0000 00:00:1744340599.367711 7797518 gl_context.cc:369] GL version: 2.1 (2.1 Metal - 88.1), renderer: Apple M1\n",
      "I0000 00:00:1744340599.374447 7797518 gl_context.cc:369] GL version: 2.1 (2.1 Metal - 88.1), renderer: Apple M1\n",
      "W0000 00:00:1744340599.376592 7857907 inference_feedback_manager.cc:114] Feedback manager requires a model with a single signature inference. Disabling support for feedback tensors.\n",
      "W0000 00:00:1744340599.384907 7857906 inference_feedback_manager.cc:114] Feedback manager requires a model with a single signature inference. Disabling support for feedback tensors.\n",
      "W0000 00:00:1744340599.386968 7857899 inference_feedback_manager.cc:114] Feedback manager requires a model with a single signature inference. Disabling support for feedback tensors.\n"
     ]
    },
    {
     "name": "stdout",
     "output_type": "stream",
     "text": [
      "6_c2.mp4\n"
     ]
    },
    {
     "name": "stderr",
     "output_type": "stream",
     "text": [
      "I0000 00:00:1744340662.875600 7797518 gl_context.cc:369] GL version: 2.1 (2.1 Metal - 88.1), renderer: Apple M1\n",
      "I0000 00:00:1744340662.884812 7797518 gl_context.cc:369] GL version: 2.1 (2.1 Metal - 88.1), renderer: Apple M1\n",
      "W0000 00:00:1744340662.887263 7858416 inference_feedback_manager.cc:114] Feedback manager requires a model with a single signature inference. Disabling support for feedback tensors.\n",
      "W0000 00:00:1744340662.893224 7858405 inference_feedback_manager.cc:114] Feedback manager requires a model with a single signature inference. Disabling support for feedback tensors.\n",
      "W0000 00:00:1744340662.895241 7858418 inference_feedback_manager.cc:114] Feedback manager requires a model with a single signature inference. Disabling support for feedback tensors.\n"
     ]
    },
    {
     "name": "stdout",
     "output_type": "stream",
     "text": [
      "13_c2.mp4\n"
     ]
    },
    {
     "name": "stderr",
     "output_type": "stream",
     "text": [
      "I0000 00:00:1744340739.078774 7797518 gl_context.cc:369] GL version: 2.1 (2.1 Metal - 88.1), renderer: Apple M1\n",
      "I0000 00:00:1744340739.085576 7797518 gl_context.cc:369] GL version: 2.1 (2.1 Metal - 88.1), renderer: Apple M1\n",
      "W0000 00:00:1744340739.087915 7859053 inference_feedback_manager.cc:114] Feedback manager requires a model with a single signature inference. Disabling support for feedback tensors.\n",
      "W0000 00:00:1744340739.095470 7859058 inference_feedback_manager.cc:114] Feedback manager requires a model with a single signature inference. Disabling support for feedback tensors.\n",
      "W0000 00:00:1744340739.096763 7859046 inference_feedback_manager.cc:114] Feedback manager requires a model with a single signature inference. Disabling support for feedback tensors.\n"
     ]
    },
    {
     "name": "stdout",
     "output_type": "stream",
     "text": [
      "6_c1.mp4\n"
     ]
    },
    {
     "name": "stderr",
     "output_type": "stream",
     "text": [
      "I0000 00:00:1744340804.631245 7797518 gl_context.cc:369] GL version: 2.1 (2.1 Metal - 88.1), renderer: Apple M1\n",
      "I0000 00:00:1744340804.637697 7797518 gl_context.cc:369] GL version: 2.1 (2.1 Metal - 88.1), renderer: Apple M1\n",
      "W0000 00:00:1744340804.640075 7859529 inference_feedback_manager.cc:114] Feedback manager requires a model with a single signature inference. Disabling support for feedback tensors.\n",
      "W0000 00:00:1744340804.647019 7859529 inference_feedback_manager.cc:114] Feedback manager requires a model with a single signature inference. Disabling support for feedback tensors.\n",
      "W0000 00:00:1744340804.649025 7859521 inference_feedback_manager.cc:114] Feedback manager requires a model with a single signature inference. Disabling support for feedback tensors.\n"
     ]
    },
    {
     "name": "stdout",
     "output_type": "stream",
     "text": [
      "13_c3.mp4\n"
     ]
    },
    {
     "name": "stderr",
     "output_type": "stream",
     "text": [
      "I0000 00:00:1744340869.213517 7797518 gl_context.cc:369] GL version: 2.1 (2.1 Metal - 88.1), renderer: Apple M1\n",
      "I0000 00:00:1744340869.219835 7797518 gl_context.cc:369] GL version: 2.1 (2.1 Metal - 88.1), renderer: Apple M1\n",
      "W0000 00:00:1744340869.221702 7860105 inference_feedback_manager.cc:114] Feedback manager requires a model with a single signature inference. Disabling support for feedback tensors.\n",
      "W0000 00:00:1744340869.228315 7860105 inference_feedback_manager.cc:114] Feedback manager requires a model with a single signature inference. Disabling support for feedback tensors.\n",
      "W0000 00:00:1744340869.230642 7860092 inference_feedback_manager.cc:114] Feedback manager requires a model with a single signature inference. Disabling support for feedback tensors.\n"
     ]
    }
   ],
   "source": [
    "video_folder = '/Users/iduli/Desktop/Ch2_25_Scientific_Data/Final/raw_Dataset/SENSORS/VIDEO/parsed_video/2nd'\n",
    "result_folder = '/Users/iduli/Desktop/Ch2_25_Scientific_Data/Final/raw_Dataset/SENSORS/VIDEO/features/2nd'\n",
    "\n",
    "\n",
    "for file in os.listdir(video_folder): \n",
    "    process_video(os.path.join(video_folder,file))"
   ]
  },
  {
   "cell_type": "markdown",
   "metadata": {},
   "source": [
    "# Timestamp 정보 추가 "
   ]
  },
  {
   "cell_type": "code",
   "execution_count": 11,
   "metadata": {},
   "outputs": [],
   "source": [
    "output_dir = os.path.join(Video, \"pickle\")\n",
    "os.makedirs(output_dir, exist_ok=True)"
   ]
  },
  {
   "cell_type": "code",
   "execution_count": 12,
   "metadata": {},
   "outputs": [],
   "source": [
    "def rename_and_save_files_with_timestamp(base_path, time_1_df, time_2_df):\n",
    "    first_folder = os.path.join(base_path, \"1st\")\n",
    "    if os.path.isdir(first_folder):\n",
    "        for filename in os.listdir(first_folder):\n",
    "            if not filename.endswith(\".csv\"):\n",
    "                continue\n",
    "            # 예: \"10_c1.csv\" -> pnum=\"10\", condition=\"c1\"\n",
    "            name_wo_ext = filename[:-4]\n",
    "            parts = name_wo_ext.split(\"_\")\n",
    "            if len(parts) != 2:\n",
    "                continue\n",
    "\n",
    "            pnum_str, condition = parts\n",
    "            try:\n",
    "                pnum_val = int(pnum_str)\n",
    "                print(pnum_val)\n",
    "            except ValueError:\n",
    "                continue\n",
    "\n",
    "            # time_1_df에서 pnum == pnum_val 행 찾기\n",
    "            matched = time_1_df[time_1_df[\"pnum\"] == pnum_val]\n",
    "            if matched.empty:\n",
    "                # 해당 pnum이 없으면 스킵\n",
    "                print('skip')\n",
    "                continue\n",
    "            if condition not in matched.columns:\n",
    "                # c1,c2,c3 중 condition이 없으면 스킵\n",
    "                print(condition, 'skip')\n",
    "                continue\n",
    "\n",
    "            # NaN 제외 -> 첫 번째 값 사용 (필요에 따라 다르게 처리 가능)\n",
    "            time_val = matched[condition].iloc[0]\n",
    "            # 정수 변환\n",
    "            try:\n",
    "                time_val = int(time_val)\n",
    "            except:\n",
    "                continue\n",
    "\n",
    "            # CSV 로드\n",
    "            old_path = os.path.join(first_folder, filename)\n",
    "            df = pd.read_csv(old_path)\n",
    "\n",
    "            # Timestamp 열에 time_val 더하기\n",
    "            if \"Timestamp\" in df.columns:\n",
    "                df[\"Timestamp\"] = df[\"Timestamp\"] + time_val\n",
    "\n",
    "            # 새 파일명\n",
    "            new_filename = f\"{pnum_val}_{condition}_{time_val}.csv\"\n",
    "            new_path = os.path.join(output_dir, new_filename)\n",
    "\n",
    "            # 저장\n",
    "            df.to_csv(new_path, index=False)\n",
    "            print(f\"[1st] {filename} -> {new_filename} (Timestamp += {time_val})\")\n",
    "\n",
    "    second_folder = os.path.join(base_path, \"2nd\")\n",
    "    if os.path.isdir(second_folder):\n",
    "        for filename in os.listdir(second_folder):\n",
    "            if not filename.endswith(\".csv\"):\n",
    "                continue\n",
    "            name_wo_ext = filename[:-4]\n",
    "            parts = name_wo_ext.split(\"_\")\n",
    "            if len(parts) != 2:\n",
    "                continue\n",
    "\n",
    "            pnum_str, condition = parts\n",
    "            # pnum 정수 변환\n",
    "            try:\n",
    "                pnum_val = int(pnum_str)\n",
    "            except ValueError:\n",
    "                continue\n",
    "\n",
    "            matched = time_2_df[time_2_df[\"pnum\"] == pnum_val]\n",
    "            if matched.empty:\n",
    "                continue\n",
    "\n",
    "            if condition not in matched.columns:\n",
    "                continue\n",
    "\n",
    "            time_vals = matched[condition].dropna()\n",
    "            if time_vals.empty:\n",
    "                continue\n",
    "\n",
    "            try:\n",
    "                time_val = int(time_vals.iloc[0])\n",
    "            except:\n",
    "                continue\n",
    "\n",
    "            # 2nd 폴더는 time_val에 +30\n",
    "            pnum_val = pnum_val + 30\n",
    "\n",
    "            old_path = os.path.join(second_folder, filename)\n",
    "            df = pd.read_csv(old_path)\n",
    "\n",
    "            # Timestamp 열에 time_val 더하기\n",
    "            if \"Timestamp\" in df.columns:\n",
    "                df[\"Timestamp\"] = df[\"Timestamp\"] + time_val\n",
    "\n",
    "            new_filename = f\"{pnum_val}_{condition}_{time_val}.csv\"\n",
    "            new_path = os.path.join(output_dir, new_filename)\n",
    "\n",
    "            df.to_csv(new_path, index=False)\n",
    "            print(f\"[2nd] {filename} -> {new_filename} (Timestamp += {time_val})\")"
   ]
  },
  {
   "cell_type": "code",
   "execution_count": 13,
   "metadata": {},
   "outputs": [
    {
     "name": "stdout",
     "output_type": "stream",
     "text": [
      "20\n",
      "[1st] 20_c2.csv -> 20_c2_1671343685068.csv (Timestamp += 1671343685068)\n",
      "3\n",
      "[1st] 3_c1.csv -> 3_c1_1671078713202.csv (Timestamp += 1671078713202)\n",
      "16\n",
      "[1st] 16_c3.csv -> 16_c3_1671268630930.csv (Timestamp += 1671268630930)\n",
      "16\n",
      "[1st] 16_c2.csv -> 16_c2_1671268230560.csv (Timestamp += 1671268230560)\n",
      "20\n",
      "[1st] 20_c3.csv -> 20_c3_1671344101538.csv (Timestamp += 1671344101538)\n",
      "20\n",
      "[1st] 20_c1.csv -> 20_c1_1671343176119.csv (Timestamp += 1671343176119)\n",
      "3\n",
      "[1st] 3_c2.csv -> 3_c2_1671080082890.csv (Timestamp += 1671080082890)\n",
      "16\n",
      "[1st] 16_c1.csv -> 16_c1_1671267813860.csv (Timestamp += 1671267813860)\n",
      "3\n",
      "[1st] 3_c3.csv -> 3_c3_1671079535240.csv (Timestamp += 1671079535240)\n",
      "22\n",
      "[1st] 22_c1.csv -> 22_c1_1671353003060.csv (Timestamp += 1671353003060)\n",
      "1\n",
      "[1st] 1_c2.csv -> 1_c2_1671068806645.csv (Timestamp += 1671068806645)\n",
      "1\n",
      "[1st] 1_c3.csv -> 1_c3_1671069238335.csv (Timestamp += 1671069238335)\n",
      "14\n",
      "[1st] 14_c1.csv -> 14_c1_1671256497984.csv (Timestamp += 1671256497984)\n",
      "18\n",
      "[1st] 18_c1.csv -> 18_c1_1671332110114.csv (Timestamp += 1671332110114)\n",
      "18\n",
      "[1st] 18_c3.csv -> 18_c3_1671332923974.csv (Timestamp += 1671332923974)\n",
      "14\n",
      "[1st] 14_c3.csv -> 14_c3_1671257299414.csv (Timestamp += 1671257299414)\n",
      "22\n",
      "[1st] 22_c2.csv -> 22_c2_1671353409090.csv (Timestamp += 1671353409090)\n",
      "1\n",
      "[1st] 1_c1.csv -> 1_c1_1671068336785.csv (Timestamp += 1671068336785)\n",
      "22\n",
      "[1st] 22_c3.csv -> 22_c3_1671353984170.csv (Timestamp += 1671353984170)\n",
      "14\n",
      "[1st] 14_c2.csv -> 14_c2_1671256889694.csv (Timestamp += 1671256889694)\n",
      "18\n",
      "[1st] 18_c2.csv -> 18_c2_1671332508724.csv (Timestamp += 1671332508724)\n",
      "10\n",
      "[1st] 10_c1.csv -> 10_c1_1671176153254.csv (Timestamp += 1671176153254)\n",
      "26\n",
      "[1st] 26_c1.csv -> 26_c1_1671672896380.csv (Timestamp += 1671672896380)\n",
      "26\n",
      "[1st] 26_c3.csv -> 26_c3_1671673828350.csv (Timestamp += 1671673828350)\n",
      "10\n",
      "[1st] 10_c2.csv -> 10_c2_1671176527614.csv (Timestamp += 1671176527614)\n",
      "10\n",
      "[1st] 10_c3.csv -> 10_c3_1671176950044.csv (Timestamp += 1671176950044)\n",
      "26\n",
      "[1st] 26_c2.csv -> 26_c2_1671673328260.csv (Timestamp += 1671673328260)\n",
      "12\n",
      "[1st] 12_c2.csv -> 12_c2_1671245867362.csv (Timestamp += 1671245867362)\n",
      "12\n",
      "[1st] 12_c3.csv -> 12_c3_1671246283292.csv (Timestamp += 1671246283292)\n",
      "12\n",
      "[1st] 12_c1.csv -> 12_c1_1671245406272.csv (Timestamp += 1671245406272)\n",
      "2\n",
      "[1st] 2_c3.csv -> 2_c3_1671073226566.csv (Timestamp += 1671073226566)\n",
      "2\n",
      "[1st] 2_c2.csv -> 2_c2_1671072795326.csv (Timestamp += 1671072795326)\n",
      "21\n",
      "[1st] 21_c1.csv -> 21_c1_1671348410357.csv (Timestamp += 1671348410357)\n",
      "21\n",
      "[1st] 21_c3.csv -> 21_c3_1671349396847.csv (Timestamp += 1671349396847)\n",
      "2\n",
      "[1st] 2_c1.csv -> 2_c1_1671072379186.csv (Timestamp += 1671072379186)\n",
      "21\n",
      "[1st] 21_c2.csv -> 21_c2_1671348821827.csv (Timestamp += 1671348821827)\n",
      "23\n",
      "[1st] 23_c3.csv -> 23_c3_1671430797957.csv (Timestamp += 1671430797957)\n",
      "19\n",
      "[1st] 19_c2.csv -> 19_c2_1671337759720.csv (Timestamp += 1671337759720)\n",
      "19\n",
      "[1st] 19_c3.csv -> 19_c3_1671338152320.csv (Timestamp += 1671338152320)\n",
      "23\n",
      "[1st] 23_c2.csv -> 23_c2_1671430379247.csv (Timestamp += 1671430379247)\n",
      "15\n",
      "skip\n",
      "19\n",
      "[1st] 19_c1.csv -> 19_c1_1671337390010.csv (Timestamp += 1671337390010)\n",
      "23\n",
      "[1st] 23_c1.csv -> 23_c1_1671429960227.csv (Timestamp += 1671429960227)\n",
      "27\n",
      "[1st] 27_c2.csv -> 27_c2_1671689139997.csv (Timestamp += 1671689139997)\n",
      "4\n",
      "[1st] 4_c1.csv -> 4_c1_1671083392936.csv (Timestamp += 1671083392936)\n",
      "8\n",
      "[1st] 8_c1.csv -> 8_c1_1671167300402.csv (Timestamp += 1671167300402)\n",
      "27\n",
      "[1st] 27_c3.csv -> 27_c3_1671689532707.csv (Timestamp += 1671689532707)\n",
      "27\n",
      "[1st] 27_c1.csv -> 27_c1_1671688733167.csv (Timestamp += 1671688733167)\n",
      "4\n",
      "[1st] 4_c2.csv -> 4_c2_1671083821136.csv (Timestamp += 1671083821136)\n",
      "8\n",
      "[1st] 8_c2.csv -> 8_c2_1671167843772.csv (Timestamp += 1671167843772)\n",
      "8\n",
      "[1st] 8_c3.csv -> 8_c3_1671168355472.csv (Timestamp += 1671168355472)\n",
      "4\n",
      "[1st] 4_c3.csv -> 4_c3_1671084427321.csv (Timestamp += 1671084427321)\n",
      "13\n",
      "c0 skip\n",
      "25\n",
      "[1st] 25_c1.csv -> 25_c1_1671587643730.csv (Timestamp += 1671587643730)\n",
      "13\n",
      "[1st] 13_c1.csv -> 13_c1_1671251228083.csv (Timestamp += 1671251228083)\n",
      "13\n",
      "[1st] 13_c3.csv -> 13_c3_1671252301653.csv (Timestamp += 1671252301653)\n",
      "25\n",
      "[1st] 25_c2.csv -> 25_c2_1671588031700.csv (Timestamp += 1671588031700)\n",
      "25\n",
      "[1st] 25_c3.csv -> 25_c3_1671588539130.csv (Timestamp += 1671588539130)\n",
      "13\n",
      "[1st] 13_c2.csv -> 13_c2_1671251839213.csv (Timestamp += 1671251839213)\n",
      "[2nd] 1_c2.csv -> 31_c2_1708134415179.csv (Timestamp += 1708134415179)\n",
      "[2nd] 1_c3.csv -> 31_c3_1708135064019.csv (Timestamp += 1708135064019)\n",
      "[2nd] 14_c1.csv -> 44_c1_1708316103451.csv (Timestamp += 1708316103451)\n",
      "[2nd] 14_c3.csv -> 44_c3_1708317021341.csv (Timestamp += 1708317021341)\n",
      "[2nd] 1_c1.csv -> 31_c1_1708133874749.csv (Timestamp += 1708133874749)\n",
      "[2nd] 14_c2.csv -> 44_c2_1708316560461.csv (Timestamp += 1708316560461)\n",
      "[2nd] 5_c3.csv -> 35_c3_1708156023392.csv (Timestamp += 1708156023392)\n",
      "[2nd] 10_c1.csv -> 40_c1_1708236380941.csv (Timestamp += 1708236380941)\n",
      "[2nd] 5_c2.csv -> 35_c2_1708155464002.csv (Timestamp += 1708155464002)\n",
      "[2nd] 10_c2.csv -> 40_c2_1708236820081.csv (Timestamp += 1708236820081)\n",
      "[2nd] 10_c3.csv -> 40_c3_1708237334871.csv (Timestamp += 1708237334871)\n",
      "[2nd] 5_c1.csv -> 35_c1_1708154998132.csv (Timestamp += 1708154998132)\n",
      "[2nd] 12_c2.csv -> 42_c2_1708308079571.csv (Timestamp += 1708308079571)\n",
      "[2nd] 12_c3.csv -> 42_c3_1708308581531.csv (Timestamp += 1708308581531)\n",
      "[2nd] 12_c1.csv -> 42_c1_1708307665621.csv (Timestamp += 1708307665621)\n",
      "[2nd] 2_c3.csv -> 32_c3_1708139837415.csv (Timestamp += 1708139837415)\n",
      "[2nd] 2_c2.csv -> 32_c2_1708139374615.csv (Timestamp += 1708139374615)\n",
      "[2nd] 2_c1.csv -> 32_c1_1708138921695.csv (Timestamp += 1708138921695)\n",
      "[2nd] 15_c2.csv -> 45_c2_1708323444973.csv (Timestamp += 1708323444973)\n",
      "[2nd] 15_c3.csv -> 45_c3_1708323913713.csv (Timestamp += 1708323913713)\n",
      "[2nd] 15_c1.csv -> 45_c1_1708322961823.csv (Timestamp += 1708322961823)\n",
      "[2nd] 4_c1.csv -> 34_c1_1708149174093.csv (Timestamp += 1708149174093)\n",
      "[2nd] 11_c3.csv -> 41_c3_1708242944622.csv (Timestamp += 1708242944622)\n",
      "[2nd] 8_c1.csv -> 38_c1_1708224638019.csv (Timestamp += 1708224638019)\n",
      "[2nd] 11_c2.csv -> 41_c2_1708242291402.csv (Timestamp += 1708242291402)\n",
      "[2nd] 4_c2.csv -> 34_c2_1708149673917.csv (Timestamp += 1708149673917)\n",
      "[2nd] 8_c2.csv -> 38_c2_1708225072039.csv (Timestamp += 1708225072039)\n",
      "[2nd] 8_c3.csv -> 38_c3_1708225517089.csv (Timestamp += 1708225517089)\n",
      "[2nd] 11_c1.csv -> 41_c1_1708241795392.csv (Timestamp += 1708241795392)\n",
      "[2nd] 4_c3.csv -> 34_c3_1708150138067.csv (Timestamp += 1708150138067)\n",
      "[2nd] 6_c2.csv -> 36_c2_1708161215418.csv (Timestamp += 1708161215418)\n",
      "[2nd] 6_c3.csv -> 36_c3_1708161682458.csv (Timestamp += 1708161682458)\n",
      "[2nd] 13_c1.csv -> 43_c1_1708311237274.csv (Timestamp += 1708311237274)\n",
      "[2nd] 13_c3.csv -> 43_c3_1708312435544.csv (Timestamp += 1708312435544)\n",
      "[2nd] 6_c1.csv -> 36_c1_1708160855018.csv (Timestamp += 1708160855018)\n",
      "[2nd] 13_c2.csv -> 43_c2_1708312013614.csv (Timestamp += 1708312013614)\n"
     ]
    }
   ],
   "source": [
    "rename_and_save_files_with_timestamp(os.path.join(Video,'features'), time_1_grouped, time_2_grouped)"
   ]
  },
  {
   "cell_type": "markdown",
   "metadata": {},
   "source": [
    "# 피클파일 만들기 "
   ]
  },
  {
   "cell_type": "code",
   "execution_count": 14,
   "metadata": {},
   "outputs": [],
   "source": [
    "Feature = '/Users/iduli/Desktop/Ch2_25_Scientific_Data/Final/raw_Dataset/SENSORS/VIDEO/pickle'\n",
    "\n",
    "import re \n",
    "\n",
    "csv_files = [f for f in os.listdir(Feature) if f.endswith('.csv')]\n",
    "pattern = re.compile(r\"^(\\d+)_(\\w+)_(\\d+)\\.csv$\")\n",
    "    \n",
    "files_data = {}"
   ]
  },
  {
   "cell_type": "code",
   "execution_count": 15,
   "metadata": {},
   "outputs": [
    {
     "name": "stdout",
     "output_type": "stream",
     "text": [
      "1 1\n",
      "2 2\n",
      "3 3\n",
      "4 4\n",
      "8 5\n",
      "10 6\n",
      "12 7\n",
      "13 8\n",
      "14 9\n",
      "16 10\n",
      "18 11\n",
      "19 12\n",
      "20 13\n",
      "21 14\n",
      "22 15\n",
      "23 16\n",
      "25 17\n",
      "26 18\n",
      "27 19\n",
      "31 20\n",
      "32 21\n",
      "34 22\n",
      "35 23\n",
      "36 24\n",
      "38 25\n",
      "40 26\n",
      "41 27\n",
      "42 28\n",
      "43 29\n",
      "44 30\n",
      "45 31\n"
     ]
    }
   ],
   "source": [
    "for csv_file in csv_files:\n",
    "    match = pattern.match(csv_file)\n",
    "    if not match:\n",
    "        continue  # 파일명이 규칙에 맞지 않으면 스킵\n",
    "    \n",
    "    old_pnum_str, condition, time_str = match.groups()\n",
    "        \n",
    "    try:\n",
    "        old_pnum = int(old_pnum_str)\n",
    "    except ValueError:\n",
    "        continue\n",
    "        \n",
    "    csv_path = os.path.join(Feature, csv_file)\n",
    "    df = pd.read_csv(csv_path)\n",
    "        \n",
    "    if old_pnum not in files_data:\n",
    "        files_data[old_pnum] = {}\n",
    "\n",
    "    files_data[old_pnum][condition] = df\n",
    "\n",
    "# 3) old_pnum들을 정렬하여, 새 pnum(1부터 1씩 증가)로 매핑\n",
    "sorted_pnums = sorted(files_data.keys())\n",
    "    \n",
    "old_to_new = {}\n",
    "new_pnum = 1\n",
    "for p in sorted_pnums:\n",
    "    old_to_new[p] = new_pnum\n",
    "    print(p, new_pnum)\n",
    "    new_pnum += 1\n"
   ]
  },
  {
   "cell_type": "code",
   "execution_count": 16,
   "metadata": {},
   "outputs": [],
   "source": [
    "final_dict = {}\n",
    "for old_pnum, cond_dict in files_data.items():\n",
    "    npnum = old_to_new[old_pnum]  # 새 pnum\n",
    "    final_dict[npnum] = {}       # 서브 dict\n",
    "    \n",
    "    for cond, df in cond_dict.items():\n",
    "        final_dict[npnum][cond] = df#\n",
    "#check data"
   ]
  },
  {
   "cell_type": "code",
   "execution_count": 17,
   "metadata": {},
   "outputs": [
    {
     "name": "stdout",
     "output_type": "stream",
     "text": [
      "         Timestamp  rotation_x  rotation_y  rotation_z  Total Movement  \\\n",
      "0    1708134415179           1          -0           0             644   \n",
      "1    1708134415179           1          -0           0             648   \n",
      "2    1708134415212           1          -0           0             646   \n",
      "3    1708134415246           1          -0           0             645   \n",
      "4    1708134415279           1          -0           0             648   \n",
      "...            ...         ...         ...         ...             ...   \n",
      "7779 1708134674446           1           0           0             615   \n",
      "7780 1708134674479           1           0           0             619   \n",
      "7781 1708134674512           1           0           0             621   \n",
      "7782 1708134674546           1           0           0             626   \n",
      "7783 1708134674579           1           0           0             629   \n",
      "\n",
      "      Gaze X  Gaze Y  Left Lip Movement  Right Lip Movement  Blink Count  \\\n",
      "0          0      -1                NaN                 NaN            0   \n",
      "1          0      -1                 -0                  -0            0   \n",
      "2          0      -1                  0                   0            0   \n",
      "3          0      -1                  0                   0            0   \n",
      "4          0      -1                 -0                  -0            0   \n",
      "...      ...     ...                ...                 ...          ...   \n",
      "7779       0      -1                 -0                   0            0   \n",
      "7780       0      -1                 -0                  -0            0   \n",
      "7781       0      -1                 -0                   0            0   \n",
      "7782       0      -1                 -0                   0            0   \n",
      "7783       0      -1                 -0                   0            0   \n",
      "\n",
      "      error_type  \n",
      "0              0  \n",
      "1              0  \n",
      "2              0  \n",
      "3              0  \n",
      "4              0  \n",
      "...          ...  \n",
      "7779           0  \n",
      "7780           0  \n",
      "7781           0  \n",
      "7782           0  \n",
      "7783           0  \n",
      "\n",
      "[7784 rows x 11 columns]\n"
     ]
    }
   ],
   "source": [
    "# final_dict의 메인 키들을 정렬한 뒤, 각 값(서브 딕셔너리)의 키들도 \"c1\", \"c2\", \"c3\" 순으로 정렬합니다.\n",
    "sorted_final = {}\n",
    "for main_key in sorted(final_dict.keys()):\n",
    "    sub_dict = final_dict[main_key]\n",
    "    sorted_sub = {}\n",
    "    for key in [\"c1\", \"c2\", \"c3\"]:\n",
    "        if key in sub_dict:\n",
    "            sorted_sub[key] = sub_dict[key]\n",
    "    sorted_final[main_key] = sorted_sub\n",
    "\n",
    "print(sorted_final[20]['c2'])"
   ]
  },
  {
   "cell_type": "code",
   "execution_count": 18,
   "metadata": {},
   "outputs": [],
   "source": [
    "destination = '/Users/iduli/Desktop/Ch2_25_Scientific_Data/Final/Dataset_publish/K-EmoWorker/SENSORS'\n",
    "\n",
    "with open(os.path.join(destination,'video.pkl'),'wb') as f:\n",
    "    pickle.dump(sorted_final, f)"
   ]
  },
  {
   "cell_type": "code",
   "execution_count": null,
   "metadata": {},
   "outputs": [],
   "source": []
  }
 ],
 "metadata": {
  "kernelspec": {
   "display_name": "Python 3",
   "language": "python",
   "name": "python3"
  },
  "language_info": {
   "codemirror_mode": {
    "name": "ipython",
    "version": 3
   },
   "file_extension": ".py",
   "mimetype": "text/x-python",
   "name": "python",
   "nbconvert_exporter": "python",
   "pygments_lexer": "ipython3",
   "version": "3.9.6"
  }
 },
 "nbformat": 4,
 "nbformat_minor": 2
}
